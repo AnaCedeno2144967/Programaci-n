{
  "nbformat": 4,
  "nbformat_minor": 0,
  "metadata": {
    "colab": {
      "provenance": [],
      "authorship_tag": "ABX9TyOBHmAy0X6I89EHo4IMEqMC",
      "include_colab_link": true
    },
    "kernelspec": {
      "name": "python3",
      "display_name": "Python 3"
    },
    "language_info": {
      "name": "python"
    }
  },
  "cells": [
    {
      "cell_type": "markdown",
      "metadata": {
        "id": "view-in-github",
        "colab_type": "text"
      },
      "source": [
        "<a href=\"https://colab.research.google.com/github/AnaCedeno2144967/Programaci-n/blob/main/Problemas%2021-30/problem_27.ipynb\" target=\"_parent\"><img src=\"https://colab.research.google.com/assets/colab-badge.svg\" alt=\"Open In Colab\"/></a>"
      ]
    },
    {
      "cell_type": "code",
      "execution_count": 21,
      "metadata": {
        "colab": {
          "base_uri": "https://localhost:8080/"
        },
        "id": "x-BGES0_mBWx",
        "outputId": "0eb117eb-1113-45a9-be7c-4e9dc2696d7d"
      },
      "outputs": [
        {
          "output_type": "stream",
          "name": "stdout",
          "text": [
            "\n",
            "Conversor de Unidades\n",
            "1. Convertir Longitud\n",
            "2. Convertir Masa\n",
            "3. Convertir Temperatura\n",
            "4. Salir\n",
            "\n",
            "Elige una opción: 1\n",
            "1. Convertir metros a kilómetros\n",
            "2. Convertir kilómetros a metros\n",
            "\n",
            "Elige una opción: 1\n",
            "Ingresa la cantidad de metros: 380\n",
            "380.0 metros es igual a 0.38 kilómetros\n",
            "\n",
            "Conversor de Unidades\n",
            "1. Convertir Longitud\n",
            "2. Convertir Masa\n",
            "3. Convertir Temperatura\n",
            "4. Salir\n",
            "\n",
            "Elige una opción: 2\n",
            "1. Convertir gramos a kilogramos\n",
            "2. Convertir kilogramos a gramos\n",
            "\n",
            "Elige una opción: 1\n",
            "Ingresa la cantidad de gramos: 4000\n",
            "4000.0 gramos es igual a: 4.0 kilogramos\n",
            "\n",
            "Conversor de Unidades\n",
            "1. Convertir Longitud\n",
            "2. Convertir Masa\n",
            "3. Convertir Temperatura\n",
            "4. Salir\n",
            "\n",
            "Elige una opción: 3\n",
            "1. Convertir Celsius a Fahrenheit\n",
            "2. Convertir Fahrenheit a Celsius\n",
            "\n",
            "Elige una opción: 1\n",
            "Ingresa la temperatura en Celsius: 17\n",
            "17.0 grados Celsius es igual a 62.6 grados Fahrenheit\n",
            "\n",
            "Conversor de Unidades\n",
            "1. Convertir Longitud\n",
            "2. Convertir Masa\n",
            "3. Convertir Temperatura\n",
            "4. Salir\n",
            "\n",
            "Elige una opción: 4\n",
            "\n",
            "Saliendo\n"
          ]
        }
      ],
      "source": [
        "def conversor():\n",
        "    while True:\n",
        "        print(\"\\nConversor de Unidades\")\n",
        "        print(\"1. Convertir Longitud\")\n",
        "        print(\"2. Convertir Masa\")\n",
        "        print(\"3. Convertir Temperatura\")\n",
        "        print(\"4. Salir\")\n",
        "\n",
        "        opcion = input(\"\\nElige una opción: \")\n",
        "\n",
        "#Convertir longitud\n",
        "        if opcion == '1':\n",
        "            print(\"1. Convertir metros a kilómetros\")\n",
        "            print(\"2. Convertir kilómetros a metros\")\n",
        "            opcion = input(\"\\nElige una opción: \")\n",
        "            if opcion == '1':\n",
        "                metros = float(input(\"Ingresa la cantidad de metros: \"))\n",
        "                print(metros, \"metros es igual a\", (metros / 1000), \"kilómetros\")\n",
        "            elif opcion == '2':\n",
        "                kilometros = float(input(\"Ingresa la cantidad de kilómetros: \"))\n",
        "                print(kilometros, \"kilómetros es igual a\", (kilometros * 1000), \"metros\")\n",
        "            else:\n",
        "                print(\"Opción no válida.\")\n",
        "#Convertir masa\n",
        "        elif opcion == '2':\n",
        "            print(\"1. Convertir gramos a kilogramos\")\n",
        "            print(\"2. Convertir kilogramos a gramos\")\n",
        "            opcion = input(\"\\nElige una opción: \")\n",
        "\n",
        "            if opcion == '1':\n",
        "                gramos = float(input(\"Ingresa la cantidad de gramos: \"))\n",
        "                print(gramos, \"gramos es igual a:\", (gramos / 1000), \"kilogramos\")\n",
        "            elif opcion == '2':\n",
        "                kilogramos = float(input(\"Ingresa la cantidad de kilogramos: \"))\n",
        "                print(kilogramos, \"kilogramos es igual a\", (kilogramos * 1000), \"gramos\")\n",
        "            else:\n",
        "                print(\"Opción no válida.\")\n",
        "#Convertir temperatura\n",
        "        elif opcion == '3':\n",
        "            print(\"1. Convertir Celsius a Fahrenheit\")\n",
        "            print(\"2. Convertir Fahrenheit a Celsius\")\n",
        "            opcion = input(\"\\nElige una opción: \")\n",
        "\n",
        "            if opcion == '1':\n",
        "                celsius = float(input(\"Ingresa la temperatura en Celsius: \"))\n",
        "                fahrenheit = (celsius * 9 / 5) + 32\n",
        "                print(celsius, \"grados Celsius es igual a\", fahrenheit, \"grados Fahrenheit\")\n",
        "            elif opcion == '2':\n",
        "                fahrenheit = float(input(\"Ingresa la temperatura en Fahrenheit: \"))\n",
        "                celsius = (fahrenheit - 32) * 5 / 9\n",
        "                print(fahrenheit, \"grados Fahrenheit es igual a\", celsius, \"grados Celsius\")\n",
        "            else:\n",
        "                print(\"Opción no válida.\")\n",
        "#Salir\n",
        "        elif opcion == '4':\n",
        "            print(\"\\nSaliendo\")\n",
        "            break\n",
        "        else:\n",
        "            print(\"Opción no válida. Por favor, elige una opción entre 1 y 4.\")\n",
        "\n",
        "\n",
        "conversor()\n",
        "\n"
      ]
    }
  ]
}