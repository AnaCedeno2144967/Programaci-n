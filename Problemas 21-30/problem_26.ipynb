{
  "nbformat": 4,
  "nbformat_minor": 0,
  "metadata": {
    "colab": {
      "provenance": [],
      "authorship_tag": "ABX9TyO/xxGteHSL2wIfdFxKqZvq",
      "include_colab_link": true
    },
    "kernelspec": {
      "name": "python3",
      "display_name": "Python 3"
    },
    "language_info": {
      "name": "python"
    }
  },
  "cells": [
    {
      "cell_type": "markdown",
      "metadata": {
        "id": "view-in-github",
        "colab_type": "text"
      },
      "source": [
        "<a href=\"https://colab.research.google.com/github/AnaCedeno2144967/Programaci-n/blob/main/Problemas%2021-30/problem_26.ipynb\" target=\"_parent\"><img src=\"https://colab.research.google.com/assets/colab-badge.svg\" alt=\"Open In Colab\"/></a>"
      ]
    },
    {
      "cell_type": "code",
      "execution_count": 1,
      "metadata": {
        "id": "Z4P6TnyfZtii",
        "colab": {
          "base_uri": "https://localhost:8080/"
        },
        "outputId": "4ea1e989-b73b-4e80-8686-713304bd525d"
      },
      "outputs": [
        {
          "output_type": "stream",
          "name": "stdout",
          "text": [
            "Cantidad de contactos:  0\n",
            "Desea agregar un contacto?(Si/No): Si\n",
            "Ingrese el identificador de contacto 1: Ana\n",
            "Ingrese el número de contacto 1: 8196721538\n",
            "Cantidad de contactos:  1\n",
            "Desea agregar un contacto?(Si/No): Si\n",
            "Ingrese el identificador de contacto 2: Mariano\n",
            "Ingrese el número de contacto 2: 8131362719\n",
            "Cantidad de contactos:  2\n",
            "Desea agregar un contacto?(Si/No): No\n",
            "[{'identificador': 'Ana', 'número': '8196721538'}, {'identificador': 'Mariano', 'número': '8131362719'}]\n"
          ]
        }
      ],
      "source": [
        "#Permite que el programa se repita mientras sea verdadero\n",
        "bandera = True\n",
        "contador = 1\n",
        "ListaContactos = list()\n",
        "\n",
        "while bandera:\n",
        "    print(\"Cantidad de contactos: \", contador-1)\n",
        "    op = input(\"Desea agregar un contacto?(Si/No): \")\n",
        "    if op == 'Si':\n",
        "        contacto = dict()\n",
        "        contacto[\"identificador\"] = input(f\"Ingrese el identificador de contacto {contador}: \")\n",
        "        contacto[\"número\"] = input(f\"Ingrese el número de contacto {contador}: \")\n",
        "        contador += 1\n",
        "#Alamacena los contacto en la lista\n",
        "        ListaContactos.append(contacto)\n",
        "    else:\n",
        "        break\n",
        "\n",
        "\n",
        "\n",
        "print(ListaContactos)"
      ]
    }
  ]
}