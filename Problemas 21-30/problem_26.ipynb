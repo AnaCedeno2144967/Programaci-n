{
  "nbformat": 4,
  "nbformat_minor": 0,
  "metadata": {
    "colab": {
      "provenance": [],
      "authorship_tag": "ABX9TyMQJcqRGQAcn9+c0uyHvJcZ",
      "include_colab_link": true
    },
    "kernelspec": {
      "name": "python3",
      "display_name": "Python 3"
    },
    "language_info": {
      "name": "python"
    }
  },
  "cells": [
    {
      "cell_type": "markdown",
      "metadata": {
        "id": "view-in-github",
        "colab_type": "text"
      },
      "source": [
        "<a href=\"https://colab.research.google.com/github/AnaCedeno2144967/Programaci-n/blob/main/Problemas%2021-30/problem_26.ipynb\" target=\"_parent\"><img src=\"https://colab.research.google.com/assets/colab-badge.svg\" alt=\"Open In Colab\"/></a>"
      ]
    },
    {
      "cell_type": "code",
      "execution_count": 5,
      "metadata": {
        "id": "Z4P6TnyfZtii",
        "colab": {
          "base_uri": "https://localhost:8080/"
        },
        "outputId": "64685278-bb8f-4cbf-b875-5295b80db0b8"
      },
      "outputs": [
        {
          "output_type": "stream",
          "name": "stdout",
          "text": [
            "\n",
            "Cantidad de contactos:  0\n",
            "Desea agregar un contacto?(Si/No): Si\n",
            "Ingrese el identificador de contacto 1: Ana \n",
            "Ingrese el número de contacto 1: 8131367730\n",
            "\n",
            "Cantidad de contactos:  1\n",
            "Desea agregar un contacto?(Si/No): Si\n",
            "Ingrese el identificador de contacto 2: Mariano\n",
            "Ingrese el número de contacto 2: 8131364498\n",
            "\n",
            "Cantidad de contactos:  2\n",
            "Desea agregar un contacto?(Si/No): No\n",
            "[{'identificador': 'Ana ', 'número': '8131367730'}, {'identificador': 'Mariano', 'número': '8131364498'}]\n"
          ]
        }
      ],
      "source": [
        "#Permite que el programa se repita mientras sea verdadero\n",
        "bandera = True\n",
        "contador = 1\n",
        "ListaContactos = list()\n",
        "\n",
        "while bandera:\n",
        "    print(\"\\nCantidad de contactos: \", contador-1)\n",
        "    op = input(\"Desea agregar un contacto?(Si/No): \")\n",
        "    if op == 'Si':\n",
        "        contacto = dict()\n",
        "        contacto[\"identificador\"] = input(f\"Ingrese el identificador de contacto {contador}: \")\n",
        "        contacto[\"número\"] = input(f\"Ingrese el número de contacto {contador}: \")\n",
        "        contador += 1\n",
        "#Alamacena los contacto en la lista\n",
        "        ListaContactos.append(contacto)\n",
        "    else:\n",
        "        break\n",
        "\n",
        "\n",
        "\n",
        "print(ListaContactos)"
      ]
    }
  ]
}