{
  "nbformat": 4,
  "nbformat_minor": 0,
  "metadata": {
    "colab": {
      "provenance": [],
      "authorship_tag": "ABX9TyOZHZAfk0zoo4M8+wddlmau",
      "include_colab_link": true
    },
    "kernelspec": {
      "name": "python3",
      "display_name": "Python 3"
    },
    "language_info": {
      "name": "python"
    }
  },
  "cells": [
    {
      "cell_type": "markdown",
      "metadata": {
        "id": "view-in-github",
        "colab_type": "text"
      },
      "source": [
        "<a href=\"https://colab.research.google.com/github/AnaCedeno2144967/Programaci-n/blob/main/Problemas%2021-30/problem_28.ipynb\" target=\"_parent\"><img src=\"https://colab.research.google.com/assets/colab-badge.svg\" alt=\"Open In Colab\"/></a>"
      ]
    },
    {
      "cell_type": "code",
      "execution_count": 16,
      "metadata": {
        "colab": {
          "base_uri": "https://localhost:8080/"
        },
        "id": "wFvYsaxETsaq",
        "outputId": "640f629a-4ca7-4671-c7e5-7d9498bf76ad"
      },
      "outputs": [
        {
          "output_type": "stream",
          "name": "stdout",
          "text": [
            "\n",
            "Bienvenido a tu cuenta bancaria.\n",
            "1. Hacer depósito\n",
            "2. Hacer retiro\n",
            "3. Mostrar saldo\n",
            "4. Salir\n",
            "Elige una opción: 1\n",
            "¿Cuánto deseas depositar? 30000\n",
            "Has depositado:  30000.0 El nuevo saldo es:  230000.0\n",
            "\n",
            "Bienvenido a tu cuenta bancaria.\n",
            "1. Hacer depósito\n",
            "2. Hacer retiro\n",
            "3. Mostrar saldo\n",
            "4. Salir\n",
            "Elige una opción: 2\n",
            "¿Cuánto deseas retirar? 15000\n",
            "Has retirado:  15000.0 El nuevo saldo es:  215000.0\n",
            "\n",
            "Bienvenido a tu cuenta bancaria.\n",
            "1. Hacer depósito\n",
            "2. Hacer retiro\n",
            "3. Mostrar saldo\n",
            "4. Salir\n",
            "Elige una opción: 3\n",
            "El  saldo es:  215000.0\n",
            "\n",
            "Bienvenido a tu cuenta bancaria.\n",
            "1. Hacer depósito\n",
            "2. Hacer retiro\n",
            "3. Mostrar saldo\n",
            "4. Salir\n",
            "Elige una opción: 4\n",
            "Gracias por usar la cuenta bancaria\n"
          ]
        }
      ],
      "source": [
        "#Simular una cuenta bancaria con depositos y retiros\n",
        "\n",
        "def main():\n",
        "  #Saldo inicial\n",
        "    saldo = 200000\n",
        " # Se ejecita mientras sea verdadero\n",
        "    while True:\n",
        "\n",
        "        print(\"\\nBienvenido a tu cuenta bancaria.\")\n",
        "        print(\"1. Hacer depósito\")\n",
        "        print(\"2. Hacer retiro\")\n",
        "        print(\"3. Mostrar saldo\")\n",
        "        print(\"4. Salir\")\n",
        "\n",
        "        opcion = input(\"Elige una opción: \")\n",
        "\n",
        "        if opcion == '1':\n",
        "            monto = float(input(\"¿Cuánto deseas depositar? \"))\n",
        "            if monto > 0:\n",
        "              saldo = saldo + monto\n",
        "              print(\"Has depositado: \", monto,\"El nuevo saldo es: \", saldo)\n",
        "            else:\n",
        "              print(\"El monto debe ser mayor a 0\")\n",
        "        elif opcion == '2':\n",
        "            monto = float(input(\"¿Cuánto deseas retirar? \"))\n",
        "            if monto > 0:\n",
        "              saldo = saldo - monto\n",
        "              print(\"Has retirado: \", monto,\"El nuevo saldo es: \", saldo)\n",
        "            else:\n",
        "              print(\"El monto debe ser mayor a 0\")\n",
        "        elif opcion == '3':\n",
        "            print(\"El  saldo es: \", saldo)\n",
        "        elif opcion == '4':\n",
        "            print(\"Gracias por usar la cuenta bancaria\")\n",
        "            break\n",
        "        else:\n",
        "            print(\"Opción no válida, por favor elige una opción entre 1 y 4.\")\n",
        "\n",
        "main()"
      ]
    }
  ]
}