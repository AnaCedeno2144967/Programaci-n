{
  "nbformat": 4,
  "nbformat_minor": 0,
  "metadata": {
    "colab": {
      "provenance": [],
      "authorship_tag": "ABX9TyO+8OYcq+x5iVEmVvKu5SVK",
      "include_colab_link": true
    },
    "kernelspec": {
      "name": "python3",
      "display_name": "Python 3"
    },
    "language_info": {
      "name": "python"
    }
  },
  "cells": [
    {
      "cell_type": "markdown",
      "metadata": {
        "id": "view-in-github",
        "colab_type": "text"
      },
      "source": [
        "<a href=\"https://colab.research.google.com/github/AnaCedeno2144967/Programaci-n/blob/main/Problemas%2021-30/problem_21.ipynb\" target=\"_parent\"><img src=\"https://colab.research.google.com/assets/colab-badge.svg\" alt=\"Open In Colab\"/></a>"
      ]
    },
    {
      "cell_type": "code",
      "execution_count": 24,
      "metadata": {
        "id": "p5CD8S4e1HuH",
        "colab": {
          "base_uri": "https://localhost:8080/"
        },
        "outputId": "32b60461-df6f-43be-d5a9-0a7d4dd78c5c"
      },
      "outputs": [
        {
          "output_type": "stream",
          "name": "stdout",
          "text": [
            "¿Qué quieres calcular?\n",
            "1. Área\n",
            "2. Volumen\n",
            "¿Qué quieres calcular? 2\n",
            "figuras\n",
            "1. Cubo\n",
            "2. Piramide\n",
            "3. Cilindro\n",
            "4. Prisma rectángular\n",
            "¿De qué figura quieres calcular el volumen? 3\n",
            "Ingrese el radio de la figura: 5\n",
            "Ingrese la altura de la figura: 8\n",
            "El volumen del cilindro es:  628.3199999999999 u³\n"
          ]
        }
      ],
      "source": [
        "#Calcular el área y volumen de distintas figuras geométricas\n",
        "\n",
        "def areas_volumenes():\n",
        "#Menú de seleccion de operación a realizar\n",
        "   print(\"¿Qué quieres calcular?\")\n",
        "   print(\"1. Área\")\n",
        "   print(\"2. Volumen\")\n",
        "\n",
        "   opcion=int(input(\"¿Qué quieres calcular? \"))\n",
        "   if opcion == 1:\n",
        "#Menú de áreas\n",
        "     print(\"figuras\")\n",
        "     print(\"1. Cuadrado\")\n",
        "     print(\"2. Triángulo\")\n",
        "     print(\"3. Círculo\")\n",
        "     print(\"4. Rectángulo\")\n",
        "\n",
        "     figura=int(input(\"¿De qué figura quieres calcular el área? \"))\n",
        "     if figura == 1:\n",
        "       lado =float(input(\"Ingrese el lado de la figura: \"))\n",
        "       area = lado * lado\n",
        "       print(\"El área del cuadrado es:\", area, \"u²\")\n",
        "\n",
        "     elif figura == 2:\n",
        "       base = float(input(\"Ingrese la base de la figura: \"))\n",
        "       altura = float(input(\"Ingrese la altura de la figura: \"))\n",
        "       area = (base * altura) / 2\n",
        "       print(\"El área del triángulo es: \", area, \"u²\")\n",
        "\n",
        "     elif figura == 3:\n",
        "       radio = float(input(\"Ingrese el radio de la figura: \"))\n",
        "       area = 3.1416 * radio ** 2\n",
        "       print(\"El área del círculo es:\", area, \"u²\")\n",
        "\n",
        "     elif figura == 4:\n",
        "       alt=float(input(\"Ingrese la alura de la figura: \"))\n",
        "       base=int(input(\"Ingrese la base de la figura: \"))\n",
        "       area = alt * base\n",
        "       print(\"El área del rectángulo es: \", area, \"u²\")\n",
        "\n",
        "     else:\n",
        "       print(\"Opción no válida\")\n",
        "#Menú de volúmenes\n",
        "   elif opcion == 2:\n",
        "     print(\"figuras\")\n",
        "     print(\"1. Cubo\")\n",
        "     print(\"2. Piramide\")\n",
        "     print(\"3. Cilindro\")\n",
        "     print(\"4. Prisma rectángular\")\n",
        "\n",
        "     figura=int(input(\"¿De qué figura quieres calcular el volumen? \"))\n",
        "     if figura == 1:\n",
        "       lado = float(input(\"Ingrese el lado de la figura: \"))\n",
        "       volumen = lado ** 3\n",
        "       print(\"El volumen del cubo es: \", volumen, \"u³\")\n",
        "\n",
        "     elif figura == 2:\n",
        "       base = float(input(\"Ingrese el área de la base de la figura: \"))\n",
        "       altura = float(input(\"Ingrese la altura de la figura: \"))\n",
        "       volumen = (base * altura) / 3\n",
        "       print(\"El volumen de la piramide es: \", volumen, \"u³\")\n",
        "\n",
        "     elif figura == 3:\n",
        "       radio = float(input(\"Ingrese el radio de la figura: \"))\n",
        "       altura = float(input(\"Ingrese la altura de la figura: \"))\n",
        "       volumen = 3.1416 * radio ** 2 * altura\n",
        "       print(\"El volumen del cilindro es: \", volumen, \"u³\")\n",
        "\n",
        "     elif figura == 4:\n",
        "        lado1 = float(input(\"Ingrese el uno de los lados de la base de la figura: \"))\n",
        "        lado2 = float(input(\"Ingrese el se3gundo lado de la base de la figura: \"))\n",
        "        altura = float(input(\"Ingrese la altura de la figura: \"))\n",
        "        volumen = lado1 * lado2 * altura\n",
        "        print(\"El volumen del prisma rectángular es: \", volumen, \"u³\")\n",
        "\n",
        "     else:\n",
        "         print(\"Opción no valida\")\n",
        "\n",
        "areas_volumenes()\n",
        "\n",
        "\n",
        ""
      ]
    }
  ]
}