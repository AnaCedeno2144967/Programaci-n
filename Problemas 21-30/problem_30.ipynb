{
  "nbformat": 4,
  "nbformat_minor": 0,
  "metadata": {
    "colab": {
      "provenance": [],
      "authorship_tag": "ABX9TyOG65IJAnyDa2h4dYHG4d2V",
      "include_colab_link": true
    },
    "kernelspec": {
      "name": "python3",
      "display_name": "Python 3"
    },
    "language_info": {
      "name": "python"
    }
  },
  "cells": [
    {
      "cell_type": "markdown",
      "metadata": {
        "id": "view-in-github",
        "colab_type": "text"
      },
      "source": [
        "<a href=\"https://colab.research.google.com/github/AnaCedeno2144967/Programaci-n/blob/main/Problemas%2021-30/problem_30.ipynb\" target=\"_parent\"><img src=\"https://colab.research.google.com/assets/colab-badge.svg\" alt=\"Open In Colab\"/></a>"
      ]
    },
    {
      "cell_type": "code",
      "execution_count": 8,
      "metadata": {
        "colab": {
          "base_uri": "https://localhost:8080/"
        },
        "id": "z-OA6s7Ic_Gx",
        "outputId": "b9be8e9b-5244-4db0-f53a-359b0179bbd3"
      },
      "outputs": [
        {
          "output_type": "stream",
          "name": "stdout",
          "text": [
            "Operaciones que utilizan funciones recursivas\n",
            "1. Factorial de un número\n",
            "2. Secuencia Fibonacci\n",
            "3. Suma de una lista\n",
            "Ingrese la operación que desea realizar: 1\n",
            "Ingrese un número para conocer su factorial: 4\n",
            "El factorial de  4 es:  24\n"
          ]
        }
      ],
      "source": [
        "#Implementar funciones recursivas\n",
        "\n",
        "def factorial(n):\n",
        "    if n == 0 or n == 1:\n",
        "        return 1\n",
        "    else:\n",
        "        return n * factorial(n - 1)\n",
        "\n",
        "def fibonacci(n):\n",
        "    if n == 0:\n",
        "        return 0\n",
        "    elif n == 1:\n",
        "        return 1\n",
        "    else:\n",
        "        return fibonacci(n - 1) + fibonacci(n - 2)\n",
        "\n",
        "def suma_lista(lista):\n",
        "    if len(lista) == 0:\n",
        "        return 0\n",
        "    else:\n",
        "        return lista[0] + suma_lista(lista[1:])\n",
        "#Implementación de funciones recursivas en operaciones\n",
        "print(\"Operaciones que utilizan funciones recursivas\")\n",
        "print(\"1. Factorial de un número\")\n",
        "print(\"2. Secuencia Fibonacci\")\n",
        "print(\"3. Suma de una lista\")\n",
        "\n",
        "op = int(input(\"Ingrese la operación que desea realizar: \"))\n",
        "\n",
        "if op == 1:\n",
        "    n = int(input(\"Ingrese un número para conocer su factorial: \"))\n",
        "    print(\"El factorial de \", n, \"es: \", factorial(n))\n",
        "\n",
        "elif op == 2:\n",
        "    n = int(input(\"Ingrese un número para calcular el término en la secuencia de Fibonacci: \"))\n",
        "    print(\"El término \", n, \"de la secuencia de Fibonacci es: \", fibonacci(n))\n",
        "\n",
        "elif op == 3:\n",
        "    lista = list(map(int, input(\"Ingrese los números de la lista separados por espacios: \").split()))\n",
        "    print(\"La suma de los elementos de la lista es: \", suma_lista(lista))\n",
        "\n",
        "else:\n",
        "    print(\"Opción no válida.\")\n",
        "\n",
        "\n"
      ]
    }
  ]
}