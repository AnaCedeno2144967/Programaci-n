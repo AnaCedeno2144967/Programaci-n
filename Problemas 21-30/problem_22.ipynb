{
  "nbformat": 4,
  "nbformat_minor": 0,
  "metadata": {
    "colab": {
      "provenance": [],
      "authorship_tag": "ABX9TyMe4B+kv/2T9ZpD1I1s3BqG",
      "include_colab_link": true
    },
    "kernelspec": {
      "name": "python3",
      "display_name": "Python 3"
    },
    "language_info": {
      "name": "python"
    }
  },
  "cells": [
    {
      "cell_type": "markdown",
      "metadata": {
        "id": "view-in-github",
        "colab_type": "text"
      },
      "source": [
        "<a href=\"https://colab.research.google.com/github/AnaCedeno2144967/Programaci-n/blob/main/Problemas%2021-30/problem_22.ipynb\" target=\"_parent\"><img src=\"https://colab.research.google.com/assets/colab-badge.svg\" alt=\"Open In Colab\"/></a>"
      ]
    },
    {
      "cell_type": "code",
      "execution_count": 20,
      "metadata": {
        "colab": {
          "base_uri": "https://localhost:8080/"
        },
        "id": "Yln_xydLz5JM",
        "outputId": "823e57c1-ec9b-4333-ddd6-63f1e439227e"
      },
      "outputs": [
        {
          "output_type": "stream",
          "name": "stdout",
          "text": [
            "Seleccione cualquier tecla para lanzar el dado y la moneda .\n",
            "El número obtenido en el dado es: 6\n",
            "Al lanzar la moneda salió cara\n"
          ]
        }
      ],
      "source": [
        "#Simular el lanzamiento de un dado y una moneda\n",
        "\n",
        "def dado_moneda():\n",
        "\n",
        "  import random\n",
        "  x= input(\"Seleccione cualquier tecla para lanzar el dado y la moneda \")\n",
        "  #Uso de la función random.randint para obtener un numero aleatorio dentro de las posibilidades\n",
        "  x = random.randint(1,6)\n",
        "  print(\"El número obtenido en el dado es:\", x)\n",
        "  y= random.randint(1,2)\n",
        "  if y == 1:\n",
        "    print(\"Al lanzar la moneda salió cara\")\n",
        "  else:\n",
        "    print(\"Al lanzar la moneda salió cruz\")\n",
        "\n",
        "dado_moneda()\n",
        "\n",
        "\n",
        "\n"
      ]
    }
  ]
}