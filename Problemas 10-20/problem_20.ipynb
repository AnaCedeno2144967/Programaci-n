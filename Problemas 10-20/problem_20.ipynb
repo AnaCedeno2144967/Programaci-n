{
  "nbformat": 4,
  "nbformat_minor": 0,
  "metadata": {
    "colab": {
      "provenance": [],
      "authorship_tag": "ABX9TyMx2e9cCYCE7I7+DK7x3edP",
      "include_colab_link": true
    },
    "kernelspec": {
      "name": "python3",
      "display_name": "Python 3"
    },
    "language_info": {
      "name": "python"
    }
  },
  "cells": [
    {
      "cell_type": "markdown",
      "metadata": {
        "id": "view-in-github",
        "colab_type": "text"
      },
      "source": [
        "<a href=\"https://colab.research.google.com/github/AnaCedeno2144967/Programaci-n/blob/main/Problemas%2010-20/problem_20.ipynb\" target=\"_parent\"><img src=\"https://colab.research.google.com/assets/colab-badge.svg\" alt=\"Open In Colab\"/></a>"
      ]
    },
    {
      "cell_type": "code",
      "execution_count": null,
      "metadata": {
        "colab": {
          "base_uri": "https://localhost:8080/"
        },
        "id": "IcYQqTc22gcs",
        "outputId": "658d1156-8b59-44b7-9ea2-3fc75d5d4430"
      },
      "outputs": [
        {
          "output_type": "stream",
          "name": "stdout",
          "text": [
            "Ingrese una lista de elementos separados por comas: 3,6,7,8,1\n",
            "Ingrese el elemento que desea buscar: 1\n",
            "Búsqueda lineal: Elemento encontrado en el índice:  4\n",
            "Búsqueda binaria: Elemento encontrado en el índice:  0\n"
          ]
        }
      ],
      "source": [
        "# Búsqueda lineal y búsqueda binaria\n",
        "\n",
        "def busqueda_lineal(lista, objetivo):\n",
        "    # Recorre cada elemento de la lista\n",
        "    for i, elem in enumerate(lista):\n",
        "        if elem == objetivo:\n",
        "            return i\n",
        "    return -1\n",
        "\n",
        "def busqueda_binaria(lista, objetivo):\n",
        "    izquierda, derecha = 0, len(lista) - 1\n",
        "    while izquierda <= derecha:\n",
        "        medio = (izquierda + derecha) // 2\n",
        "        if lista[medio] == objetivo:\n",
        "            return medio\n",
        "        elif lista[medio] > objetivo:\n",
        "            derecha = medio - 1\n",
        "        else:\n",
        "            izquierda = medio + 1\n",
        "    return -1\n",
        "\n",
        "def main():\n",
        "    lista = input(\"Ingrese una lista de elementos separados por comas: \")\n",
        "    lista = [int(x) for x in lista.split(\",\")]\n",
        "    objetivo = int(input(\"Ingrese el elemento que desea buscar: \"))\n",
        "\n",
        "    resultado_lineal = busqueda_lineal(lista, objetivo)\n",
        "    if resultado_lineal != -1:\n",
        "        print(\"Búsqueda lineal: Elemento encontrado en el índice: \" , resultado_lineal)\n",
        "    else:\n",
        "        print(\"Búsqueda lineal: Elemento no encontrado\")\n",
        "\n",
        "    lista_ordenada = sorted(lista)\n",
        "\n",
        "    resultado_binaria = busqueda_binaria(sorted(lista), objetivo)\n",
        "    if resultado_binaria != -1:\n",
        "        print(\"Búsqueda binaria: Elemento encontrado en el índice: \", resultado_binaria)\n",
        "    else:\n",
        "        print(\"Búsqueda binaria: Elemento no encontrado\")\n",
        "\n",
        "main()\n"
      ]
    },
    {
      "cell_type": "code",
      "source": [],
      "metadata": {
        "id": "K1rimZOd28YU"
      },
      "execution_count": null,
      "outputs": []
    }
  ]
}