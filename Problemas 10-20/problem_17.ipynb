{
  "nbformat": 4,
  "nbformat_minor": 0,
  "metadata": {
    "colab": {
      "provenance": [],
      "authorship_tag": "ABX9TyMZ+fOE2ChC42eNMKJ0koKp",
      "include_colab_link": true
    },
    "kernelspec": {
      "name": "python3",
      "display_name": "Python 3"
    },
    "language_info": {
      "name": "python"
    }
  },
  "cells": [
    {
      "cell_type": "markdown",
      "metadata": {
        "id": "view-in-github",
        "colab_type": "text"
      },
      "source": [
        "<a href=\"https://colab.research.google.com/github/AnaCedeno2144967/Programaci-n/blob/main/Problemas%2010-20/problem_17.ipynb\" target=\"_parent\"><img src=\"https://colab.research.google.com/assets/colab-badge.svg\" alt=\"Open In Colab\"/></a>"
      ]
    },
    {
      "cell_type": "code",
      "execution_count": null,
      "metadata": {
        "colab": {
          "base_uri": "https://localhost:8080/"
        },
        "id": "OyHEo61aqrO6",
        "outputId": "1915c748-736a-4d4c-a4e9-cdc05fe56eb8"
      },
      "outputs": [
        {
          "output_type": "stream",
          "name": "stdout",
          "text": [
            "Ingrese el valor que acompañe el coeficiente cuadrático: 1\n",
            "Ingrese el valor que acompañe al coeficiente lineal: -2\n",
            "Ingrese el valor que acompañe al término independiente: -1\n",
            "Las soluciones de la ecuación son:  2.414213562373095 y -0.41421356237309515\n"
          ]
        }
      ],
      "source": [
        "#Resolver ecuaciones cuadráticas\n",
        "def ecuaciones():\n",
        "\n",
        "  import math\n",
        "  a = float(input(\"Ingrese el valor que acompañe el coeficiente cuadrático: \"))\n",
        "  b = float(input(\"Ingrese el valor que acompañe al coeficiente lineal: \"))\n",
        "  c = float(input(\"Ingrese el valor que acompañe al término independiente: \"))\n",
        "\n",
        "  x1 = (-b + math.sqrt(b**2 - (4*a*c)))/(2*a)\n",
        "  x2 = (-b - math.sqrt(b**2 - (4*a*c)))/(2*a)\n",
        "\n",
        "  print(\"Las soluciones de la ecuación son: \", x1, \"y\", x2)\n",
        "ecuaciones()\n",
        "\n"
      ]
    }
  ]
}