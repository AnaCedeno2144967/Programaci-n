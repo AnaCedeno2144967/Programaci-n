{
  "nbformat": 4,
  "nbformat_minor": 0,
  "metadata": {
    "colab": {
      "provenance": [],
      "authorship_tag": "ABX9TyO9zXHXuVVfdibbkcYiiwuD",
      "include_colab_link": true
    },
    "kernelspec": {
      "name": "python3",
      "display_name": "Python 3"
    },
    "language_info": {
      "name": "python"
    }
  },
  "cells": [
    {
      "cell_type": "markdown",
      "metadata": {
        "id": "view-in-github",
        "colab_type": "text"
      },
      "source": [
        "<a href=\"https://colab.research.google.com/github/AnaCedeno2144967/Programaci-n/blob/main/Problemas%2010-20/problem_11.ipynb\" target=\"_parent\"><img src=\"https://colab.research.google.com/assets/colab-badge.svg\" alt=\"Open In Colab\"/></a>"
      ]
    },
    {
      "cell_type": "code",
      "execution_count": null,
      "metadata": {
        "colab": {
          "base_uri": "https://localhost:8080/"
        },
        "id": "dGUap194k1sY",
        "outputId": "2f389882-3a59-429a-c73f-8654f74ddb9d"
      },
      "outputs": [
        {
          "output_type": "stream",
          "name": "stdout",
          "text": [
            "Ingrese una palabra: ana\n",
            "Es palindromo\n"
          ]
        }
      ],
      "source": [
        "def isPalindromo():\n",
        "\n",
        "   a = input(\"Ingrese una palabra: \")\n",
        "   copia = a\n",
        "   copia = list(copia)\n",
        "   # .reverse() se utiliza para invertir una lista\n",
        "   copia.reverse()\n",
        "   if list(a) == copia:\n",
        "    print(\"Es palindromo\")\n",
        "   else:\n",
        "     print(\"No es palindromo\")\n",
        "\n",
        "isPalindromo()"
      ]
    }
  ]
}