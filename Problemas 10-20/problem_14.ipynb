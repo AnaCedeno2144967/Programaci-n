{
  "nbformat": 4,
  "nbformat_minor": 0,
  "metadata": {
    "colab": {
      "provenance": [],
      "authorship_tag": "ABX9TyPiwbbdgpVnotjMTNO/G2KR",
      "include_colab_link": true
    },
    "kernelspec": {
      "name": "python3",
      "display_name": "Python 3"
    },
    "language_info": {
      "name": "python"
    }
  },
  "cells": [
    {
      "cell_type": "markdown",
      "metadata": {
        "id": "view-in-github",
        "colab_type": "text"
      },
      "source": [
        "<a href=\"https://colab.research.google.com/github/AnaCedeno2144967/Programaci-n/blob/main/Problemas%2010-20/problem_14.ipynb\" target=\"_parent\"><img src=\"https://colab.research.google.com/assets/colab-badge.svg\" alt=\"Open In Colab\"/></a>"
      ]
    },
    {
      "cell_type": "code",
      "execution_count": 1,
      "metadata": {
        "colab": {
          "base_uri": "https://localhost:8080/"
        },
        "id": "S9IomTaRFp7C",
        "outputId": "dfd4c3dc-474e-4a11-cc0f-15a78f939d9d"
      },
      "outputs": [
        {
          "output_type": "stream",
          "name": "stdout",
          "text": [
            "Lista original: [71, 60, 45, 45, 95, 44, 48, 51, 40, 66]\n",
            "Ordenada con bubble sort: [40, 44, 45, 45, 48, 51, 60, 66, 71, 95]\n",
            "Ordenada con selection sort: [40, 44, 45, 45, 48, 51, 60, 66, 71, 95]\n",
            "Ordenada con insertion sort: [40, 44, 45, 45, 48, 51, 60, 66, 71, 95]\n"
          ]
        }
      ],
      "source": [
        "# Implementar distintos métodos de ordenamiento\n",
        "\n",
        "def bubble_sort(lista):\n",
        "    n = len(lista)\n",
        "    for i in range(n):\n",
        "        for j in range(0, n - i - 1):\n",
        "            if lista[j] > lista[j + 1]:\n",
        "                lista[j], lista[j + 1] = lista[j + 1], lista[j]\n",
        "    return lista\n",
        "\n",
        "def selection_sort(lista):\n",
        "    n = len(lista)\n",
        "    for i in range(n):\n",
        "        min_idx = i\n",
        "        for j in range(i+1, n):\n",
        "            if lista[j] < lista[min_idx]:\n",
        "                min_idx = j\n",
        "        lista[i], lista[min_idx] = lista[min_idx], lista[i]\n",
        "    return lista\n",
        "\n",
        "def insertion_sort(lista):\n",
        "    for i in range(1, len(lista)):\n",
        "        key = lista[i]\n",
        "        j = i - 1\n",
        "        while j >= 0 and key < lista[j]:\n",
        "            lista[j + 1] = lista[j]\n",
        "            j -= 1\n",
        "        lista[j + 1] = key\n",
        "    return lista\n",
        "\n",
        "if __name__ == '__main__':\n",
        "    import random\n",
        "    # Lista aleatoria de números\n",
        "    lista = [random.randint(1, 100) for _ in range(10)]\n",
        "    print(\"Lista original:\", lista)\n",
        "    print(\"Ordenada con bubble sort:\", bubble_sort(lista.copy()))\n",
        "    print(\"Ordenada con selection sort:\", selection_sort(lista.copy()))\n",
        "    print(\"Ordenada con insertion sort:\", insertion_sort(lista.copy()))"
      ]
    }
  ]
}