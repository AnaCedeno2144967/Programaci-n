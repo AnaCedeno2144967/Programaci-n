{
  "nbformat": 4,
  "nbformat_minor": 0,
  "metadata": {
    "colab": {
      "provenance": [],
      "authorship_tag": "ABX9TyNZI1dbKBAo92gdGutlS3kL",
      "include_colab_link": true
    },
    "kernelspec": {
      "name": "python3",
      "display_name": "Python 3"
    },
    "language_info": {
      "name": "python"
    }
  },
  "cells": [
    {
      "cell_type": "markdown",
      "metadata": {
        "id": "view-in-github",
        "colab_type": "text"
      },
      "source": [
        "<a href=\"https://colab.research.google.com/github/AnaCedeno2144967/Programaci-n/blob/main/Problemas%2010-20/problem_19.ipynb\" target=\"_parent\"><img src=\"https://colab.research.google.com/assets/colab-badge.svg\" alt=\"Open In Colab\"/></a>"
      ]
    },
    {
      "cell_type": "code",
      "execution_count": null,
      "metadata": {
        "colab": {
          "base_uri": "https://localhost:8080/"
        },
        "id": "h6D6z-Rp3FKG",
        "outputId": "8916f81e-340e-4d06-fcb9-2db4730cd509"
      },
      "outputs": [
        {
          "output_type": "stream",
          "name": "stdout",
          "text": [
            "Distribución Uniforme: [0.75705289 4.32695092 5.94506729 2.28938753 1.29496672 1.75950849\n",
            " 4.43762763 3.5161538  5.67898505 3.41894642]\n",
            "Distribución Normal: [ 0.0630347   0.67359182 -1.0521856  -1.31838252  0.09237615  1.25251744\n",
            "  1.47491604  1.39478094 -0.15652791 -0.27225938]\n",
            "Distribución Exponencial: [0.24849313 0.59727247 0.0218058  0.41346105 0.13323468 2.65939087\n",
            " 0.98351412 0.24231066 1.00405236 0.54700444]\n",
            "Distribución Binomial: [6 5 5 7 5 7 5 8 7 6]\n",
            "Distribución Poisson: [2 3 2 6 6 4 1 5 2 0]\n"
          ]
        }
      ],
      "source": [
        "import numpy as np\n",
        "import matplotlib.pyplot as plt\n",
        "from scipy import stats\n",
        "\n",
        "# Generar números aleatorios de diferentes distribuciones\n",
        "uniforme = np.random.uniform(0, 10, 10)\n",
        "normal = np.random.normal(0, 1, 10)\n",
        "exponencial = np.random.exponential(1, 10)\n",
        "binomial = np.random.binomial(10, 0.5, 10)\n",
        "poisson = np.random.poisson(3, 10)\n",
        "\n",
        "print(\"Distribución Uniforme:\", uniforme)\n",
        "print(\"Distribución Normal:\", normal)\n",
        "print(\"Distribución Exponencial:\", exponencial)\n",
        "print(\"Distribución Binomial:\", binomial)\n",
        "print(\"Distribución Poisson:\", poisson)\n"
      ]
    }
  ]
}