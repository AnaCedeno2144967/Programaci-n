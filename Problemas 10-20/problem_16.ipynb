{
  "nbformat": 4,
  "nbformat_minor": 0,
  "metadata": {
    "colab": {
      "provenance": [],
      "authorship_tag": "ABX9TyNXh9tuueDXLowii4yBOUCT",
      "include_colab_link": true
    },
    "kernelspec": {
      "name": "python3",
      "display_name": "Python 3"
    },
    "language_info": {
      "name": "python"
    }
  },
  "cells": [
    {
      "cell_type": "markdown",
      "metadata": {
        "id": "view-in-github",
        "colab_type": "text"
      },
      "source": [
        "<a href=\"https://colab.research.google.com/github/AnaCedeno2144967/Programaci-n/blob/main/Problemas%2010-20/problem_16.ipynb\" target=\"_parent\"><img src=\"https://colab.research.google.com/assets/colab-badge.svg\" alt=\"Open In Colab\"/></a>"
      ]
    },
    {
      "cell_type": "code",
      "execution_count": null,
      "metadata": {
        "colab": {
          "base_uri": "https://localhost:8080/"
        },
        "id": "Fcyyz5ajnRVr",
        "outputId": "cdff015a-8e47-4eee-f11c-c5dffdb5bcba"
      },
      "outputs": [
        {
          "output_type": "stream",
          "name": "stdout",
          "text": [
            "Ingrese la palabra o frase de la que desee saber el número de vocales y consonantes: ana valeria\n",
            "El número de vocales es:  6\n",
            "El número de consonantes es:  4\n"
          ]
        }
      ],
      "source": [
        "def contador_vocales_consonantes():\n",
        "\n",
        "   texto = input(\"Ingrese la palabra o frase de la que desee saber el número de vocales y consonantes: \")\n",
        "   vocales = 'aeiouAEIOU'\n",
        "   consonantes = 'bcdfghjklmnñpqrstvwxyzBCDFGHJKLMNÑPQRSTVWXYZ'\n",
        "   contadorv = 0\n",
        "   contadorc = 0\n",
        "   contador = 0\n",
        "   for letra in texto:\n",
        "    if letra in vocales:\n",
        "      contadorv += 1\n",
        "    elif letra in consonantes:\n",
        "      contadorc += 1\n",
        "\n",
        "   print(\"El número de vocales es: \", contadorv)\n",
        "   print(\"El número de consonantes es: \", contadorc)\n",
        "\n",
        "contador_vocales_consonantes()"
      ]
    }
  ]
}