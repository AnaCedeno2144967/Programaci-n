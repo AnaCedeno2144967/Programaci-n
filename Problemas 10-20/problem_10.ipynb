{
  "nbformat": 4,
  "nbformat_minor": 0,
  "metadata": {
    "colab": {
      "provenance": [],
      "authorship_tag": "ABX9TyPuBM3HmsY2Z5GR/A60g2T6",
      "include_colab_link": true
    },
    "kernelspec": {
      "name": "python3",
      "display_name": "Python 3"
    },
    "language_info": {
      "name": "python"
    }
  },
  "cells": [
    {
      "cell_type": "markdown",
      "metadata": {
        "id": "view-in-github",
        "colab_type": "text"
      },
      "source": [
        "<a href=\"https://colab.research.google.com/github/AnaCedeno2144967/Programaci-n/blob/main/Problemas%2010-20/problem_10.ipynb\" target=\"_parent\"><img src=\"https://colab.research.google.com/assets/colab-badge.svg\" alt=\"Open In Colab\"/></a>"
      ]
    },
    {
      "cell_type": "code",
      "execution_count": 1,
      "metadata": {
        "colab": {
          "base_uri": "https://localhost:8080/"
        },
        "id": "tPUyzOfmFC6K",
        "outputId": "d9f4db7d-3758-4dbf-e3ab-261d022c29c1"
      },
      "outputs": [
        {
          "output_type": "stream",
          "name": "stdout",
          "text": [
            "Contenido inicial:\n",
            "Hola, mundo\n",
            "Este es un archivo de texto.\n",
            "\n",
            "Contenido modificado:\n",
            "Hola, Python\n",
            "Este es un archivo de texto.\n"
          ]
        }
      ],
      "source": [
        "#Leer, escribir y modificar un archivo de texto\n",
        "\n",
        "def escribir_archivo(nombre, contenido):\n",
        "    with open(nombre, 'w', encoding='utf-8') as f:\n",
        "        f.write(contenido)\n",
        "\n",
        "def leer_archivo(nombre):\n",
        "    with open(nombre, 'r', encoding='utf-8') as f:\n",
        "        return f.read()\n",
        "\n",
        "def modificar_archivo(nombre, buscar, reemplazar):\n",
        "    contenido = leer_archivo(nombre)\n",
        "    contenido_modificado = contenido.replace(buscar, reemplazar)\n",
        "    escribir_archivo(nombre, contenido_modificado)\n",
        "\n",
        "if __name__ == '__main__':\n",
        "    archivo = 'ejemplo.txt'\n",
        "    # Contenido inicial\n",
        "    contenido_inicial = \"Hola, mundo\\nEste es un archivo de texto.\"\n",
        "    escribir_archivo(archivo, contenido_inicial)\n",
        "    print(\"Contenido inicial:\")\n",
        "    print(leer_archivo(archivo))\n",
        "\n",
        "    # Modificar archivo\n",
        "    modificar_archivo(archivo, \"mundo\", \"Python\")\n",
        "    print(\"\\nContenido modificado:\")\n",
        "    print(leer_archivo(archivo))"
      ]
    }
  ]
}