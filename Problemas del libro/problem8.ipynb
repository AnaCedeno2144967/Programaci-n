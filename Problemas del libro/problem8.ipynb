{
  "nbformat": 4,
  "nbformat_minor": 0,
  "metadata": {
    "colab": {
      "provenance": [],
      "authorship_tag": "ABX9TyNq4fyauHgAKiagvH/lnWaU",
      "include_colab_link": true
    },
    "kernelspec": {
      "name": "python3",
      "display_name": "Python 3"
    },
    "language_info": {
      "name": "python"
    }
  },
  "cells": [
    {
      "cell_type": "markdown",
      "metadata": {
        "id": "view-in-github",
        "colab_type": "text"
      },
      "source": [
        "<a href=\"https://colab.research.google.com/github/AnaCedeno2144967/Programaci-n/blob/main/Problemas%20del%20libro/problem8.ipynb\" target=\"_parent\"><img src=\"https://colab.research.google.com/assets/colab-badge.svg\" alt=\"Open In Colab\"/></a>"
      ]
    },
    {
      "cell_type": "code",
      "execution_count": null,
      "metadata": {
        "colab": {
          "base_uri": "https://localhost:8080/"
        },
        "id": "5vOQcnIGTZbf",
        "outputId": "1b57aee3-9afe-4739-b2a2-655fae569a1e"
      },
      "outputs": [
        {
          "output_type": "stream",
          "name": "stdout",
          "text": [
            "Ingresa el valor del diametro del círculo: 10\n",
            "La circunferencia del círculo es:  31.41592653589793\n",
            "El área del círculo es:  78.53981633974483\n"
          ]
        }
      ],
      "source": [
        "import math\n",
        "\n",
        "diametro = float(input(\"Ingresa el valor del diametro del círculo: \"))\n",
        "circunferencia = math.pi * diametro\n",
        "\n",
        "print(\"La circunferencia del círculo es: \", circunferencia)\n",
        "\n",
        "#Hice el cálculo del el área utilizando el diámetro y dividiendolo entre dos, ya que estoy es igual que el radio\n",
        "\n",
        "\n",
        "area = math.pi * (diametro/2)**2\n",
        "\n",
        "print(\"El área del círculo es: \", area)"
      ]
    }
  ]
}