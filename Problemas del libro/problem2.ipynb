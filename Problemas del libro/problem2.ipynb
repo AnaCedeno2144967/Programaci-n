{
  "nbformat": 4,
  "nbformat_minor": 0,
  "metadata": {
    "colab": {
      "provenance": [],
      "toc_visible": true,
      "authorship_tag": "ABX9TyMD5dHR3Bw0XWjFFaDUXmBh",
      "include_colab_link": true
    },
    "kernelspec": {
      "name": "python3",
      "display_name": "Python 3"
    },
    "language_info": {
      "name": "python"
    }
  },
  "cells": [
    {
      "cell_type": "markdown",
      "metadata": {
        "id": "view-in-github",
        "colab_type": "text"
      },
      "source": [
        "<a href=\"https://colab.research.google.com/github/AnaCedeno2144967/Programaci-n/blob/main/Problemas%20del%20libro/problem2.ipynb\" target=\"_parent\"><img src=\"https://colab.research.google.com/assets/colab-badge.svg\" alt=\"Open In Colab\"/></a>"
      ]
    },
    {
      "cell_type": "code",
      "execution_count": 1,
      "metadata": {
        "colab": {
          "base_uri": "https://localhost:8080/"
        },
        "id": "Txacn0x1IWsi",
        "outputId": "b551f0e3-721a-40ca-b07a-171cb822c17c"
      },
      "outputs": [
        {
          "output_type": "stream",
          "name": "stdout",
          "text": [
            "Ingresa el número de la operación que desees realizar: \n",
            "1. Suma\n",
            "2. Resta\n",
            "3. Multiplicación\n",
            "4. División\n",
            "Ingresa el número de la operación que desees realizar: 1\n",
            "Ingresa el primer número: 4\n",
            "Ingresa el segundo número: 5\n",
            "El resultado de la operación es: 9.0\n"
          ]
        }
      ],
      "source": [
        "def calculadora():\n",
        "\n",
        "#Realicé un menú de opciones para que elusuario elija la operación que desee realizar\n",
        "    print (\"Ingresa el número de la operación que desees realizar: \")\n",
        "    print (\"1. Suma\")\n",
        "    print (\"2. Resta\")\n",
        "    print (\"3. Multiplicación\")\n",
        "    print (\"4. División\")\n",
        "\n",
        "    operacion = input(\"Ingresa el número de la operación que desees realizar: \")\n",
        "#Pedí al usuario ingresar los números que se operarán\n",
        "    try:\n",
        "        num1 = float(input(\"Ingresa el primer número: \"))\n",
        "        num2 = float(input(\"Ingresa el segundo número: \"))\n",
        "    except ValueError:\n",
        "        print(\"Por favor, ingresa números válidos.\")\n",
        "        return\n",
        "\n",
        "    if operacion == \"1\":\n",
        "        resultado = num1 + num2\n",
        "    elif operacion == \"2\":\n",
        "        resultado = num1 - num2\n",
        "    elif operacion == \"3\":\n",
        "        resultado = num1 * num2\n",
        "    elif operacion == \"4\":\n",
        "        if num2 == 0:\n",
        "            print(\"No se puede dividir entre cero.\")\n",
        "            return\n",
        "        resultado = num1 / num2\n",
        "    else:\n",
        "        print(\"Operación no válida\")\n",
        "        return\n",
        "\n",
        "    print(\"El resultado de la operación es:\", resultado)\n",
        "    return\n",
        "\n",
        "calculadora()"
      ]
    },
    {
      "cell_type": "code",
      "source": [],
      "metadata": {
        "id": "1YFwpYM9Kq1A"
      },
      "execution_count": null,
      "outputs": []
    }
  ]
}