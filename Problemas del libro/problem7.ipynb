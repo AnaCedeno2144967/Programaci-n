{
  "nbformat": 4,
  "nbformat_minor": 0,
  "metadata": {
    "colab": {
      "provenance": [],
      "authorship_tag": "ABX9TyMdGhzeL25GhiEMjeB/SPzt",
      "include_colab_link": true
    },
    "kernelspec": {
      "name": "python3",
      "display_name": "Python 3"
    },
    "language_info": {
      "name": "python"
    }
  },
  "cells": [
    {
      "cell_type": "markdown",
      "metadata": {
        "id": "view-in-github",
        "colab_type": "text"
      },
      "source": [
        "<a href=\"https://colab.research.google.com/github/AnaCedeno2144967/Programaci-n/blob/main/Problemas%20del%20libro/problem7.ipynb\" target=\"_parent\"><img src=\"https://colab.research.google.com/assets/colab-badge.svg\" alt=\"Open In Colab\"/></a>"
      ]
    },
    {
      "cell_type": "code",
      "execution_count": null,
      "metadata": {
        "colab": {
          "base_uri": "https://localhost:8080/"
        },
        "id": "IhsXifyOvHda",
        "outputId": "f3500123-5349-4b35-99dd-0e1ab2708e2c"
      },
      "outputs": [
        {
          "output_type": "stream",
          "name": "stdout",
          "text": [
            "Ingrese el número del cual desea saber si es par, impar o múltiplo de otro: 45\n",
            "El número es impar\n",
            "Es múltiplo de:  [1, 3, 5, 9, 15, 45]\n"
          ]
        }
      ],
      "source": [
        "def numero_par_impar_multiplo():\n",
        "   num = int(input(\"Ingrese el número del cual desea saber si es par, impar o múltiplo de otro: \"))\n",
        "#Utilicé el % para obtener el residuo de la división, al dividir num entre dos y obtener 0 significa que es número par, de lo contrario será impar\n",
        "   if num % 2 == 0:\n",
        "      print(\"El número es par\")\n",
        "   else:\n",
        "      print(\"El número es impar\")\n",
        "#Utilicé [i for i in range() if num % i == 0] para obtener una lista de números que son divisibles entre num y por lo tanto num es múltiplo de ellos\n",
        "   multiplos = [i for i in range (1, num+1) if num % i == 0]\n",
        "   print(\"Es múltiplo de: \", multiplos)\n",
        "\n",
        "numero_par_impar_multiplo()"
      ]
    }
  ]
}