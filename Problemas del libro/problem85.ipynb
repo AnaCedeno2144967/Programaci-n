{
  "nbformat": 4,
  "nbformat_minor": 0,
  "metadata": {
    "colab": {
      "provenance": [],
      "authorship_tag": "ABX9TyO5O00sjyqrm2CTcZ5l/yR8",
      "include_colab_link": true
    },
    "kernelspec": {
      "name": "python3",
      "display_name": "Python 3"
    },
    "language_info": {
      "name": "python"
    }
  },
  "cells": [
    {
      "cell_type": "markdown",
      "metadata": {
        "id": "view-in-github",
        "colab_type": "text"
      },
      "source": [
        "<a href=\"https://colab.research.google.com/github/AnaCedeno2144967/Programaci-n/blob/main/Problemas%20del%20libro/problem85.ipynb\" target=\"_parent\"><img src=\"https://colab.research.google.com/assets/colab-badge.svg\" alt=\"Open In Colab\"/></a>"
      ]
    },
    {
      "cell_type": "code",
      "execution_count": null,
      "metadata": {
        "colab": {
          "base_uri": "https://localhost:8080/"
        },
        "id": "m52WuwHd-Md4",
        "outputId": "d4c28dc6-565f-46b8-e99e-8d46bb85016e"
      },
      "outputs": [
        {
          "output_type": "stream",
          "name": "stdout",
          "text": [
            "Ingrese un número para verificar si es primo: 11\n",
            "El número 11 es primo.\n",
            "Los números primos menores a 11 son: [2, 3, 5, 7]\n"
          ]
        }
      ],
      "source": [
        "# Determinar si un número es primo y generar los primos menores que él\n",
        "def numero_primo(num):\n",
        "    if num <= 1:\n",
        "        return False\n",
        "    for i in range(2, num):\n",
        "        if num % i == 0:\n",
        "            return False\n",
        "    return True\n",
        "\n",
        "num = int(input(\"Ingrese un número para verificar si es primo: \"))\n",
        "\n",
        "if numero_primo(num):\n",
        "    print(\"El número\", num, \"es primo.\")\n",
        "else:\n",
        "    print(f\"El número\", num, \"no es primo.\")\n",
        "\n",
        "# Genera los números primos menores a un número\n",
        "primos = []\n",
        "for i in range(2, num):\n",
        "    if numero_primo(i):\n",
        "        primos.append(i)\n",
        "print(\"Los números primos menores a\", num, \"son:\", primos)\n"
      ]
    }
  ]
}