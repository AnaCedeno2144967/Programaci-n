{
  "nbformat": 4,
  "nbformat_minor": 0,
  "metadata": {
    "colab": {
      "provenance": [],
      "authorship_tag": "ABX9TyPXt5/l77AHclrxJjxJ3aMk",
      "include_colab_link": true
    },
    "kernelspec": {
      "name": "python3",
      "display_name": "Python 3"
    },
    "language_info": {
      "name": "python"
    }
  },
  "cells": [
    {
      "cell_type": "markdown",
      "metadata": {
        "id": "view-in-github",
        "colab_type": "text"
      },
      "source": [
        "<a href=\"https://colab.research.google.com/github/AnaCedeno2144967/Programaci-n/blob/main/Problemas%20del%20libro/problem9.ipynb\" target=\"_parent\"><img src=\"https://colab.research.google.com/assets/colab-badge.svg\" alt=\"Open In Colab\"/></a>"
      ]
    },
    {
      "cell_type": "code",
      "execution_count": null,
      "metadata": {
        "colab": {
          "base_uri": "https://localhost:8080/"
        },
        "id": "o3-a9vwYLrYM",
        "outputId": "39261d4d-5cb2-4c6b-e02f-2f310e44daf5"
      },
      "outputs": [
        {
          "output_type": "stream",
          "name": "stdout",
          "text": [
            "Establezca un limite para generar la lista de numero pares e impares: 16\n",
            "La lista de números pares hasta el  16 : [2, 4, 6, 8, 10, 12, 14, 16]\n",
            "La lista de números impares hasta el  16 : [1, 3, 5, 7, 9, 11, 13, 15]\n"
          ]
        }
      ],
      "source": [
        "def lista_pares_impares():\n",
        "\n",
        "  lim = int(input(\"Establezca un limite para generar la lista de numero pares e impares: \"))\n",
        "#Utilicé el % para obtener el residuo de la división, al dividir num entre dos y obtener 0 significa que es número par, de lo contrario será impar\n",
        "  pares = [i for i in range (1, lim + 1) if i % 2 == 0]\n",
        "  impares = [i for i in range (1, lim + 1) if i % 2 == 1]\n",
        "\n",
        "  print(\"La lista de números pares hasta el \",lim , \":\", pares)\n",
        "  print(\"La lista de números impares hasta el \",lim , \":\", impares)\n",
        "\n",
        "lista_pares_impares()"
      ]
    }
  ]
}