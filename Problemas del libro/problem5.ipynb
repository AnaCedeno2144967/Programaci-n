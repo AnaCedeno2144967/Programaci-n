{
  "nbformat": 4,
  "nbformat_minor": 0,
  "metadata": {
    "colab": {
      "provenance": [],
      "authorship_tag": "ABX9TyOSy0o2U3irNijUPFVMetoN",
      "include_colab_link": true
    },
    "kernelspec": {
      "name": "python3",
      "display_name": "Python 3"
    },
    "language_info": {
      "name": "python"
    }
  },
  "cells": [
    {
      "cell_type": "markdown",
      "metadata": {
        "id": "view-in-github",
        "colab_type": "text"
      },
      "source": [
        "<a href=\"https://colab.research.google.com/github/AnaCedeno2144967/Programaci-n/blob/main/Problemas%20del%20libro/problem5.ipynb\" target=\"_parent\"><img src=\"https://colab.research.google.com/assets/colab-badge.svg\" alt=\"Open In Colab\"/></a>"
      ]
    },
    {
      "cell_type": "code",
      "execution_count": null,
      "metadata": {
        "colab": {
          "base_uri": "https://localhost:8080/"
        },
        "id": "vX77s8PBqEGc",
        "outputId": "8d0984f2-f4e5-400e-e158-68424ae1cccd"
      },
      "outputs": [
        {
          "output_type": "stream",
          "name": "stdout",
          "text": [
            "Ingrese un número para verificar si es primo: 12\n",
            "El número no es primo\n"
          ]
        }
      ],
      "source": [
        "def numero_primo():\n",
        "  num = int(input(\"Ingrese un número para verificar si es primo: \"))\n",
        "  if num <= 1:\n",
        "    print(\"El número no es primo\")\n",
        "    return\n",
        "  elif num > 1:\n",
        "# Utilicé un ciclo for para comprobar que num no sea divisible entre los números desde i hasta antes de num\n",
        "   for i in range(2, num):\n",
        "      if num % i == 0:\n",
        "        print(\"El número no es primo\")\n",
        "        return\n",
        "   else:\n",
        "      print(\"El número es primo\")\n",
        "\n",
        "numero_primo()"
      ]
    }
  ]
}