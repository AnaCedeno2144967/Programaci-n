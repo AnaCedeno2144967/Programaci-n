{
  "nbformat": 4,
  "nbformat_minor": 0,
  "metadata": {
    "colab": {
      "provenance": [],
      "authorship_tag": "ABX9TyNjI5qLcY96Y1DKh/hu11gz",
      "include_colab_link": true
    },
    "kernelspec": {
      "name": "python3",
      "display_name": "Python 3"
    },
    "language_info": {
      "name": "python"
    }
  },
  "cells": [
    {
      "cell_type": "markdown",
      "metadata": {
        "id": "view-in-github",
        "colab_type": "text"
      },
      "source": [
        "<a href=\"https://colab.research.google.com/github/AnaCedeno2144967/Programaci-n/blob/main/Problemas%20del%20libro/problem13.ipynb\" target=\"_parent\"><img src=\"https://colab.research.google.com/assets/colab-badge.svg\" alt=\"Open In Colab\"/></a>"
      ]
    },
    {
      "cell_type": "code",
      "execution_count": 1,
      "metadata": {
        "colab": {
          "base_uri": "https://localhost:8080/"
        },
        "id": "DKWfTF65tkUW",
        "outputId": "5d2bc86c-88b9-4a65-b99a-b09cf3072c34"
      },
      "outputs": [
        {
          "output_type": "stream",
          "name": "stdout",
          "text": [
            "Menú de escalas: \n",
            "1. Celsius\n",
            "2. Fahrenheit\n",
            "3. Kelvin\n",
            "Ingrese la opción que contenga escala de la temperatura que quiere convertir: 1\n",
            "Ingrese la temperatura que quiera convertir: 38\n",
            "Ingrese la opción que contenga la escala a la que quiera convertir la temperatura: 2\n",
            "La temperatura en grados Fahrenheit es:  100.4 °F\n"
          ]
        }
      ],
      "source": [
        "#Convertir una temperatura entre distintas escalas\n",
        "\n",
        "def escalas():\n",
        "   print (\"Menú de escalas: \")\n",
        "   print (\"1. Celsius\")\n",
        "   print (\"2. Fahrenheit\")\n",
        "   print (\"3. Kelvin\")\n",
        "\n",
        "#Try se usa para posibles errores que podría generar el código, y except maneja esos errores sin detener la ejecución del programa.\n",
        "   try:\n",
        "       escala_original = int(input(\"Ingrese la opción que contenga escala de la temperatura que quiere convertir: \"))\n",
        "       temp_original = float(input(\"Ingrese la temperatura que quiera convertir: \"))\n",
        "       escala_conversion = int(input(\"Ingrese la opción que contenga la escala a la que quiera convertir la temperatura: \"))\n",
        "   except ValueError:\n",
        "       print(\"Ingresa números válidos\")\n",
        "       return\n",
        "#Utilicé un if para evaluar cada una de la opciones que pudo haber elegido el usuario para convertir las temperaturas\n",
        "   if escala_original == 1 and escala_conversion == 2:\n",
        "     temp_convertida = temp_original * 9/5 + 32\n",
        "     print(\"La temperatura en grados Fahrenheit es: \", temp_convertida, \"°F\" )\n",
        "   elif escala_original == 1 and escala_conversion == 3:\n",
        "     temp_convertida = temp_original + 273.15\n",
        "     print(\"La temperatura en grados Kelvin es: \", temp_convertida, \"K\" )\n",
        "   elif escala_original == 2 and escala_conversion == 1:\n",
        "     temp_convertida = (temp_original - 32) * 5/9\n",
        "     print(\"La temperatura en grados Celsius es: \", temp_convertida, \"°C\" )\n",
        "   elif escala_original == 2 and escala_conversion == 3:\n",
        "     temp_convertida = (temp_original - 32) * 5/9 + 273.15\n",
        "     print(\"La temperatura en grados Kelvin es: \", temp_convertida, \"K\" )\n",
        "   elif escala_original == 3 and escala_conversion == 1:\n",
        "     temp_convertida = temp_original - 273.15\n",
        "     print(\"La temperatura en grados Celsius es: \", temp_convertida, \"°C\" )\n",
        "   elif escala_original == 3 and escala_conversion == 2:\n",
        "     temp_convertida = (temp_original - 273.15) * 9/5 + 32\n",
        "     print(\"La temperatura en grados Fahrenheit es: \", temp_convertida, \"°F\" )\n",
        "   else:\n",
        "     print(\"Las opciones ingresadas no son válidas\")\n",
        "\n",
        "escalas()\n"
      ]
    }
  ]
}