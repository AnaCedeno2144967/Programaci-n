{
  "nbformat": 4,
  "nbformat_minor": 0,
  "metadata": {
    "colab": {
      "provenance": [],
      "authorship_tag": "ABX9TyNzt5RSoqaFfB33iUv25CNj",
      "include_colab_link": true
    },
    "kernelspec": {
      "name": "python3",
      "display_name": "Python 3"
    },
    "language_info": {
      "name": "python"
    }
  },
  "cells": [
    {
      "cell_type": "markdown",
      "metadata": {
        "id": "view-in-github",
        "colab_type": "text"
      },
      "source": [
        "<a href=\"https://colab.research.google.com/github/AnaCedeno2144967/Programaci-n/blob/main/Problemas%20del%20libro/problem3.ipynb\" target=\"_parent\"><img src=\"https://colab.research.google.com/assets/colab-badge.svg\" alt=\"Open In Colab\"/></a>"
      ]
    },
    {
      "cell_type": "code",
      "execution_count": 1,
      "metadata": {
        "colab": {
          "base_uri": "https://localhost:8080/"
        },
        "id": "YUlmY_PUjrXz",
        "outputId": "efe544a0-7ea5-48e9-add9-0a8a0fa51378"
      },
      "outputs": [
        {
          "output_type": "stream",
          "name": "stdout",
          "text": [
            "Ingrese un número para obtener su factorial: 5\n",
            "El factorial del número 5 es:  120\n"
          ]
        }
      ],
      "source": [
        "def factorial():\n",
        "\n",
        "  x = int(input(\"Ingrese un número para obtener su factorial: \"))\n",
        "  f = 1\n",
        "  #Realicé un ciclo for para que desde el 1 al número x multiplicara i(que es la variable que aumentara) por f, para generar una nueva f hasta que se repita x veces\n",
        "  for i in range(1, x + 1):\n",
        "    f= f * i\n",
        "\n",
        "  print(\"El factorial del número\", x, \"es: \", f)\n",
        "\n",
        "factorial()"
      ]
    }
  ]
}