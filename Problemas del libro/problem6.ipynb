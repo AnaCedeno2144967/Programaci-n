{
  "nbformat": 4,
  "nbformat_minor": 0,
  "metadata": {
    "colab": {
      "provenance": [],
      "authorship_tag": "ABX9TyNydCyefura96e8YRb0yOEg",
      "include_colab_link": true
    },
    "kernelspec": {
      "name": "python3",
      "display_name": "Python 3"
    },
    "language_info": {
      "name": "python"
    }
  },
  "cells": [
    {
      "cell_type": "markdown",
      "metadata": {
        "id": "view-in-github",
        "colab_type": "text"
      },
      "source": [
        "<a href=\"https://colab.research.google.com/github/AnaCedeno2144967/Programaci-n/blob/main/Problemas%20del%20libro/problem6.ipynb\" target=\"_parent\"><img src=\"https://colab.research.google.com/assets/colab-badge.svg\" alt=\"Open In Colab\"/></a>"
      ]
    },
    {
      "cell_type": "code",
      "source": [],
      "metadata": {
        "id": "9GTgLU5RB_DC"
      },
      "execution_count": null,
      "outputs": []
    },
    {
      "cell_type": "code",
      "execution_count": null,
      "metadata": {
        "colab": {
          "base_uri": "https://localhost:8080/"
        },
        "id": "6fmf4Uy-8KHH",
        "outputId": "efa5389b-0b29-4812-fe17-360faaf8e940"
      },
      "outputs": [
        {
          "output_type": "stream",
          "name": "stdout",
          "text": [
            "Ingrese el capital inicial: 100\n",
            "Ingrese la tasa de interés anual: 20\n",
            "Ingrese el tiempo en años: 3\n",
            "El capital final después de 3.0 años es:  172.79999999999998\n"
          ]
        }
      ],
      "source": [
        "def calcular_interes_compuesto():\n",
        "\n",
        "#Le pedí al usuario que ingresará los datos para realizar el cálculo del interés compuesto\n",
        "   c_inicial = float(input(\"Ingrese el capital inicial: \"))\n",
        "   tasa_interes = float(input(\"Ingrese la tasa de interés anual: \"))\n",
        "   tiempo_años = float(input(\"Ingrese el tiempo en años: \"))\n",
        "\n",
        "   tasa_decimal = tasa_interes / 100\n",
        "   interes_compuesto = c_inicial * (1 + tasa_decimal) ** tiempo_años\n",
        "\n",
        "   print(\"El capital final después de\" ,tiempo_años, \"años es: \", interes_compuesto)\n",
        "\n",
        "calcular_interes_compuesto()"
      ]
    }
  ]
}