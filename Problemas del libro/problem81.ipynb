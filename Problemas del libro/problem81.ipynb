{
  "nbformat": 4,
  "nbformat_minor": 0,
  "metadata": {
    "colab": {
      "provenance": [],
      "authorship_tag": "ABX9TyPy1OBpjcl87KVX64B3S8qR",
      "include_colab_link": true
    },
    "kernelspec": {
      "name": "python3",
      "display_name": "Python 3"
    },
    "language_info": {
      "name": "python"
    }
  },
  "cells": [
    {
      "cell_type": "markdown",
      "metadata": {
        "id": "view-in-github",
        "colab_type": "text"
      },
      "source": [
        "<a href=\"https://colab.research.google.com/github/AnaCedeno2144967/Programaci-n/blob/main/Problemas%20del%20libro/problem81.ipynb\" target=\"_parent\"><img src=\"https://colab.research.google.com/assets/colab-badge.svg\" alt=\"Open In Colab\"/></a>"
      ]
    },
    {
      "cell_type": "code",
      "execution_count": 11,
      "metadata": {
        "colab": {
          "base_uri": "https://localhost:8080/"
        },
        "id": "KokYCj9-kDyV",
        "outputId": "cb6fa4ca-74e8-4d14-d9bc-779f7fc52d46"
      },
      "outputs": [
        {
          "output_type": "stream",
          "name": "stdout",
          "text": [
            "Ingresa una lista de números separados por espacios: 1 2 2 3 4\n",
            "Mediana: 2\n",
            "Moda: 2\n"
          ]
        }
      ],
      "source": [
        "# Calcular la mediana y moda de un alista de números\n",
        "import statistics\n",
        "\n",
        "def calcular_mediana_y_moda():\n",
        "    lista_1 = input(\"Ingresa una lista de números separados por espacios: \")\n",
        "\n",
        "    lista = [int(x) for x in lista_1.split()]\n",
        "\n",
        "    mediana = statistics.median(lista)\n",
        "\n",
        "    try:\n",
        "        moda = statistics.mode(lista)\n",
        "    except statistics.StatisticsError:\n",
        "        moda = \"No hay una moda única\"\n",
        "\n",
        "    print(f\"Mediana: {mediana}\")\n",
        "    print(f\"Moda: {moda}\")\n",
        "\n",
        "calcular_mediana_y_moda()\n"
      ]
    }
  ]
}