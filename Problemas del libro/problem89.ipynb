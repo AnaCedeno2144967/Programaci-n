{
  "nbformat": 4,
  "nbformat_minor": 0,
  "metadata": {
    "colab": {
      "provenance": [],
      "authorship_tag": "ABX9TyPyTpzMbWB51ABtOClRAZBM",
      "include_colab_link": true
    },
    "kernelspec": {
      "name": "python3",
      "display_name": "Python 3"
    },
    "language_info": {
      "name": "python"
    }
  },
  "cells": [
    {
      "cell_type": "markdown",
      "metadata": {
        "id": "view-in-github",
        "colab_type": "text"
      },
      "source": [
        "<a href=\"https://colab.research.google.com/github/AnaCedeno2144967/Programaci-n/blob/main/Problemas%20del%20libro/problem89.ipynb\" target=\"_parent\"><img src=\"https://colab.research.google.com/assets/colab-badge.svg\" alt=\"Open In Colab\"/></a>"
      ]
    },
    {
      "cell_type": "code",
      "execution_count": 10,
      "metadata": {
        "colab": {
          "base_uri": "https://localhost:8080/"
        },
        "id": "-3swTgws4pfC",
        "outputId": "44f05825-8f11-42f9-bd0f-136184327b67"
      },
      "outputs": [
        {
          "output_type": "stream",
          "name": "stdout",
          "text": [
            "figuras\n",
            "1. Cuadrado\n",
            "2. Triángulo\n",
            "3. Círculo\n",
            "4. Rectángulo\n",
            "¿De qué figura quieres calcular el área y perímetro?4\n",
            "Ingrese la alura de la figura: 6\n",
            "Ingrese la base de la figura: 2\n",
            "El área del rectángulo es:  12.0\n",
            "El perímetro del rectángulo es:  16.0\n"
          ]
        }
      ],
      "source": [
        "#Calcular el área y perímetro de figuras geométricas básicas\n",
        "\n",
        "def areas():\n",
        "\n",
        "   print(\"figuras\")\n",
        "   print(\"1. Cuadrado\")\n",
        "   print(\"2. Triángulo\")\n",
        "   print(\"3. Círculo\")\n",
        "   print(\"4. Rectángulo\")\n",
        "\n",
        "   figura=int(input(\"¿De qué figura quieres calcular el área y perímetro?\"))\n",
        "   if figura == 1:\n",
        "     lado =float(input(\"Ingrese el lado de la figura: \"))\n",
        "     area = lado * lado\n",
        "     perimetro = lado * 4\n",
        "     print(\"El área del cuadrado es:\", area)\n",
        "     print(\"El perímetro del cuadrado es:\", perimetro)\n",
        "   elif figura == 2:\n",
        "     lado1 = float(input(\"Ingrese el primer lado de la figura: \"))\n",
        "     lado2 = float(input(\"Ingrese el segundo lado de la figura: \"))\n",
        "     base = float(input(\"Ingrese la base de la figura: \"))\n",
        "     altura = float(input(\"Ingrese la altura de la figura: \"))\n",
        "     area = (base * altura) / 2\n",
        "     perimetro = lado1 + lado2 + base\n",
        "     print(\"El área del triángulo es: \", area)\n",
        "     print(\"El perímetro del triángulo es: \", perimetro)\n",
        "   elif figura == 3:\n",
        "     diametro = float(input(\"Ingrese el diámetro de la figura: \"))\n",
        "     radio = diametro / 2\n",
        "     area = 3.1416 * radio ** 2\n",
        "     perimetro = 3.1416 * diametro\n",
        "     print(\"El área del círculo es:\", area)\n",
        "     print(\"El perímetro del círculo es:\", perimetro)\n",
        "   elif figura == 4:\n",
        "     alt=float(input(\"Ingrese la alura de la figura: \"))\n",
        "     base=int(input(\"Ingrese la base de la figura: \"))\n",
        "     area = alt * base\n",
        "     perimetro = alt *2 + base * 2\n",
        "     print(\"El área del rectángulo es: \", area)\n",
        "     print(\"El perímetro del rectángulo es: \", perimetro)\n",
        "   else:\n",
        "     print(\"Opción no válida\")\n",
        "\n",
        "areas()"
      ]
    }
  ]
}