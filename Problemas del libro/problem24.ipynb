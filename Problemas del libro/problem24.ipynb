{
  "nbformat": 4,
  "nbformat_minor": 0,
  "metadata": {
    "colab": {
      "provenance": [],
      "authorship_tag": "ABX9TyONcBkInmmlcsUePC4F+bgx",
      "include_colab_link": true
    },
    "kernelspec": {
      "name": "python3",
      "display_name": "Python 3"
    },
    "language_info": {
      "name": "python"
    }
  },
  "cells": [
    {
      "cell_type": "markdown",
      "metadata": {
        "id": "view-in-github",
        "colab_type": "text"
      },
      "source": [
        "<a href=\"https://colab.research.google.com/github/AnaCedeno2144967/Programaci-n/blob/main/Problemas%20del%20libro/problem24.ipynb\" target=\"_parent\"><img src=\"https://colab.research.google.com/assets/colab-badge.svg\" alt=\"Open In Colab\"/></a>"
      ]
    },
    {
      "cell_type": "code",
      "execution_count": 28,
      "metadata": {
        "colab": {
          "base_uri": "https://localhost:8080/"
        },
        "id": "8tG6PciEabfy",
        "outputId": "f4d21789-2e2a-4c76-e979-cf141431a6c5"
      },
      "outputs": [
        {
          "output_type": "stream",
          "name": "stdout",
          "text": [
            "Ingresa el número de términos de la serie 4\n",
            "Ingrese el número 1 de la serie: .5\n",
            "Ingrese el número 2 de la serie: 1\n",
            "Ingrese el número 3 de la serie: 1.5\n",
            "Ingrese el número 4 de la serie: 2\n",
            "La suma de a serie es:  5.0\n"
          ]
        }
      ],
      "source": [
        "#Calcular la suma de una serie númerica\n",
        "\n",
        "num = int(input(\"Ingresa el número de términos de la serie \"))\n",
        "x = 0\n",
        "suma = 0\n",
        "#Utilicé un ciclo for para pedir al usuario cad numero de la serie\n",
        "for i in range(1, num + 1):\n",
        "  x = float(input(f\"Ingrese el número {i} de la serie: \"))\n",
        "  suma = suma + x\n",
        "\n",
        "print(\"La suma de a serie es: \", suma)\n",
        "\n",
        "\n"
      ]
    }
  ]
}