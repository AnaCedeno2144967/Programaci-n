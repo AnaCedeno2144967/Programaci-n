{
  "nbformat": 4,
  "nbformat_minor": 0,
  "metadata": {
    "colab": {
      "provenance": [],
      "authorship_tag": "ABX9TyNiCPEzA2GFP5+Qke42Cg99",
      "include_colab_link": true
    },
    "kernelspec": {
      "name": "python3",
      "display_name": "Python 3"
    },
    "language_info": {
      "name": "python"
    }
  },
  "cells": [
    {
      "cell_type": "markdown",
      "metadata": {
        "id": "view-in-github",
        "colab_type": "text"
      },
      "source": [
        "<a href=\"https://colab.research.google.com/github/AnaCedeno2144967/Programaci-n/blob/main/Problemas%20del%20libro/problem12.ipynb\" target=\"_parent\"><img src=\"https://colab.research.google.com/assets/colab-badge.svg\" alt=\"Open In Colab\"/></a>"
      ]
    },
    {
      "cell_type": "code",
      "execution_count": null,
      "metadata": {
        "colab": {
          "base_uri": "https://localhost:8080/"
        },
        "id": "_3xbvztIoQ1C",
        "outputId": "363bc857-ef71-491c-b087-9f45237f4c21"
      },
      "outputs": [
        {
          "output_type": "stream",
          "name": "stdout",
          "text": [
            "Ingrese el primer número: 2\n",
            "Ingrese el segundo número: 3.4\n",
            "Ingrese el tercer número: 56\n",
            "El número mayor es el tercero: 56.0\n"
          ]
        }
      ],
      "source": [
        "#Encontrar el mayor de tres numero dados\n",
        "\n",
        "num1 =float(input(\"Ingrese el primer número: \"))\n",
        "num2 =float(input(\"Ingrese el segundo número: \"))\n",
        "num3 =float(input(\"Ingrese el tercer número: \"))\n",
        "#Utilicé un condicional if para evaluar si es que cada numero es mayor que el resto.\n",
        "if num1 > num2 and num1 > num3:\n",
        "    print(\"El numero mayor es el primero:\" ,num1)\n",
        "elif num2 > num1 and num2 > num3:\n",
        "    print(\"El número mayor es el segundo:\" ,num2)\n",
        "else:\n",
        "    print(\"El número mayor es el tercero:\" ,num3)\n"
      ]
    }
  ]
}