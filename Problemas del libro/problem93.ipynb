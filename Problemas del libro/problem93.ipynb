{
  "nbformat": 4,
  "nbformat_minor": 0,
  "metadata": {
    "colab": {
      "provenance": [],
      "authorship_tag": "ABX9TyPkVTzzjSKy16ONHU+WECns",
      "include_colab_link": true
    },
    "kernelspec": {
      "name": "python3",
      "display_name": "Python 3"
    },
    "language_info": {
      "name": "python"
    }
  },
  "cells": [
    {
      "cell_type": "markdown",
      "metadata": {
        "id": "view-in-github",
        "colab_type": "text"
      },
      "source": [
        "<a href=\"https://colab.research.google.com/github/AnaCedeno2144967/Programaci-n/blob/main/Problemas%20del%20libro/problem93.ipynb\" target=\"_parent\"><img src=\"https://colab.research.google.com/assets/colab-badge.svg\" alt=\"Open In Colab\"/></a>"
      ]
    },
    {
      "cell_type": "code",
      "execution_count": 8,
      "metadata": {
        "colab": {
          "base_uri": "https://localhost:8080/"
        },
        "id": "AmnPqc90t7d7",
        "outputId": "e13cf0fc-4b15-4e0f-d70a-0455582678af"
      },
      "outputs": [
        {
          "output_type": "stream",
          "name": "stdout",
          "text": [
            "Ingrese el número que desea convertir a hexadecimal: 255\n",
            "ff\n"
          ]
        }
      ],
      "source": [
        "# Convierte el número de decimal a hexadecimal\n",
        "\n",
        "num = int(input(\"Ingrese el número que desea convertir a hexadecimal: \"))\n",
        "# Utilicé [2:] para obtener el tercer elemento, de lo contrario la respuesta hubiera sido 0xff\n",
        "hexadecimal = hex(num)[2:]\n",
        "\n",
        "print(hexadecimal)"
      ]
    }
  ]
}