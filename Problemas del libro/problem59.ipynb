{
  "nbformat": 4,
  "nbformat_minor": 0,
  "metadata": {
    "colab": {
      "provenance": [],
      "authorship_tag": "ABX9TyOcjlAlmNcP5xIMx48hXwn1",
      "include_colab_link": true
    },
    "kernelspec": {
      "name": "python3",
      "display_name": "Python 3"
    },
    "language_info": {
      "name": "python"
    }
  },
  "cells": [
    {
      "cell_type": "markdown",
      "metadata": {
        "id": "view-in-github",
        "colab_type": "text"
      },
      "source": [
        "<a href=\"https://colab.research.google.com/github/AnaCedeno2144967/Programaci-n/blob/main/Problemas%20del%20libro/problem59.ipynb\" target=\"_parent\"><img src=\"https://colab.research.google.com/assets/colab-badge.svg\" alt=\"Open In Colab\"/></a>"
      ]
    },
    {
      "cell_type": "code",
      "execution_count": 8,
      "metadata": {
        "id": "JjOi64lIyYRs",
        "colab": {
          "base_uri": "https://localhost:8080/"
        },
        "outputId": "85b10aac-696e-4af8-8344-c377dc20f282"
      },
      "outputs": [
        {
          "output_type": "stream",
          "name": "stdout",
          "text": [
            "Menú de moneda: \n",
            "1. Dólar estadounidense\n",
            "2. Peso mexicano\n",
            "3. Euro\n",
            "Ingrese la opción que contenga moneda de la cantidad que quiere convertir: 2\n",
            "Ingrese la cantidad que quiera convertir: 476\n",
            "Ingrese la opción que contenga la moneda a la que quiera convertir la cantidad: 3\n",
            "La cantidad en euros es:  22.372\n"
          ]
        }
      ],
      "source": [
        "def monedas():\n",
        "   print (\"Menú de moneda: \")\n",
        "   print (\"1. Dólar estadounidense\")\n",
        "   print (\"2. Peso mexicano\")\n",
        "   print (\"3. Euro\")\n",
        "\n",
        "#Try se usa para posibles errores que podría generar el código, y except maneja esos errores sin detener la ejecución del programa.\n",
        "   try:\n",
        "       moneda_original = int(input(\"Ingrese la opción que contenga moneda de la cantidad que quiere convertir: \"))\n",
        "       cant_original = float(input(\"Ingrese la cantidad que quiera convertir: \"))\n",
        "       moneda_conversion = int(input(\"Ingrese la opción que contenga la moneda a la que quiera convertir la cantidad: \"))\n",
        "   except ValueError:\n",
        "       print(\"Ingresa números válidos\")\n",
        "       return\n",
        "#Utilicé un if para evaluar cada una de la opciones que pudo haber elegido el usuario para convertir la moneda\n",
        "   if moneda_original == 1 and moneda_conversion == 2:\n",
        "     cant_convertida = cant_original  * 20.59\n",
        "     print(\"La cantidad en pesos mexicanos es: \", cant_convertida)\n",
        "\n",
        "   elif moneda_original == 1 and moneda_conversion == 3:\n",
        "     cant_convertida = cant_original  *  .97\n",
        "     print(\"La cantidad en euros es: \", cant_convertida)\n",
        "\n",
        "   elif moneda_original == 2 and moneda_conversion == 1:\n",
        "     cant_convertida = cant_original  * .049\n",
        "     print(\"La cantidad en dólares es: \", cant_convertida)\n",
        "\n",
        "   elif moneda_original == 2 and moneda_conversion == 3:\n",
        "     cant_convertida = cant_original  * .047\n",
        "     print(\"La cantidad en euros es: \", cant_convertida)\n",
        "\n",
        "   elif moneda_original == 3 and moneda_conversion == 1:\n",
        "     cant_convertida = cant_original  * 1.03\n",
        "     print(\"La cantidad en dólares es: \", cant_convertida)\n",
        "\n",
        "   elif moneda_original == 3 and moneda_conversion == 2:\n",
        "     cant_convertida = cant_original  * 21.21\n",
        "     print(\"La cantidad en pesos mexicanos es: \", cant_convertida)\n",
        "   else:\n",
        "     print(\"Las opciones ingresadas no son válidas\")\n",
        "\n",
        "monedas()"
      ]
    }
  ]
}