{
  "nbformat": 4,
  "nbformat_minor": 0,
  "metadata": {
    "colab": {
      "provenance": [],
      "authorship_tag": "ABX9TyMOgpinoQAxyisXL3Hrrz+D",
      "include_colab_link": true
    },
    "kernelspec": {
      "name": "python3",
      "display_name": "Python 3"
    },
    "language_info": {
      "name": "python"
    }
  },
  "cells": [
    {
      "cell_type": "markdown",
      "metadata": {
        "id": "view-in-github",
        "colab_type": "text"
      },
      "source": [
        "<a href=\"https://colab.research.google.com/github/AnaCedeno2144967/Programaci-n/blob/main/Problemas%20del%20libro/problem_15.ipynb\" target=\"_parent\"><img src=\"https://colab.research.google.com/assets/colab-badge.svg\" alt=\"Open In Colab\"/></a>"
      ]
    },
    {
      "cell_type": "code",
      "execution_count": 31,
      "metadata": {
        "colab": {
          "base_uri": "https://localhost:8080/"
        },
        "id": "eiNORThjMCSB",
        "outputId": "cc5d68a9-5420-443a-9d5b-f5d404cc8d90"
      },
      "outputs": [
        {
          "output_type": "stream",
          "name": "stdout",
          "text": [
            "Ingrese el año que desee saber si es bisiesto: 2000\n",
            "El año 2000 es bisiesto\n"
          ]
        }
      ],
      "source": [
        "#Determinar si un año es bisiesto\n",
        "\n",
        "#Evalué que se cumplieran las condiciones necesarias para que el año sea bisiesto\n",
        "año = int(input(\"Ingrese el año que desee saber si es bisiesto: \"))\n",
        "if año % 4 == 0 and año % 100 != 0:\n",
        "  print(\"El año\" , año, \"es bisiesto\")\n",
        "elif año % 100 == 0 and año % 400 == 0:\n",
        "  print(\"El año\" , año, \"es bisiesto\")\n",
        "else:\n",
        "  print(\"El año\" , año, \"no es bisiesto\")"
      ]
    }
  ]
}