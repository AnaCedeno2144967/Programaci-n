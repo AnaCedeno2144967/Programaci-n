{
  "nbformat": 4,
  "nbformat_minor": 0,
  "metadata": {
    "colab": {
      "provenance": [],
      "authorship_tag": "ABX9TyOhvDFuXtsbd4mQuykjku9t",
      "include_colab_link": true
    },
    "kernelspec": {
      "name": "python3",
      "display_name": "Python 3"
    },
    "language_info": {
      "name": "python"
    }
  },
  "cells": [
    {
      "cell_type": "markdown",
      "metadata": {
        "id": "view-in-github",
        "colab_type": "text"
      },
      "source": [
        "<a href=\"https://colab.research.google.com/github/AnaCedeno2144967/Programaci-n/blob/main/Problemas%20del%20libro/problem92.ipynb\" target=\"_parent\"><img src=\"https://colab.research.google.com/assets/colab-badge.svg\" alt=\"Open In Colab\"/></a>"
      ]
    },
    {
      "cell_type": "code",
      "execution_count": 18,
      "metadata": {
        "colab": {
          "base_uri": "https://localhost:8080/"
        },
        "id": "6R47BUQlo4LE",
        "outputId": "34c22ace-2b64-42c9-bb93-5cfc3acc31e9"
      },
      "outputs": [
        {
          "output_type": "stream",
          "name": "stdout",
          "text": [
            "Introduce el número decimal a convertir: 25\n",
            "Número octal: 31\n"
          ]
        }
      ],
      "source": [
        "# Convertir números de decimales a octales\n",
        "\n",
        "x = int(input(\"Introduce el número decimal a convertir: \"))\n",
        "lista = []\n",
        "while x >= 1:\n",
        "    lista.append(str(x % 8))\n",
        "    x = x // 8\n",
        "#Utilicé lista[::-1] para obtener la lista inversa\n",
        "print(\"Número octal:\",\"\".join(lista[::-1]))\n"
      ]
    }
  ]
}