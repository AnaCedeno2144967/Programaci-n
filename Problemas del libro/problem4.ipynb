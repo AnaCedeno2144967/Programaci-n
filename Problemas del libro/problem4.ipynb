{
  "nbformat": 4,
  "nbformat_minor": 0,
  "metadata": {
    "colab": {
      "provenance": [],
      "authorship_tag": "ABX9TyNG/MoWQzuOqAQ3vEU2DfFc",
      "include_colab_link": true
    },
    "kernelspec": {
      "name": "python3",
      "display_name": "Python 3"
    },
    "language_info": {
      "name": "python"
    }
  },
  "cells": [
    {
      "cell_type": "markdown",
      "metadata": {
        "id": "view-in-github",
        "colab_type": "text"
      },
      "source": [
        "<a href=\"https://colab.research.google.com/github/AnaCedeno2144967/Programaci-n/blob/main/Problemas%20del%20libro/problem4.ipynb\" target=\"_parent\"><img src=\"https://colab.research.google.com/assets/colab-badge.svg\" alt=\"Open In Colab\"/></a>"
      ]
    },
    {
      "cell_type": "code",
      "execution_count": null,
      "metadata": {
        "colab": {
          "base_uri": "https://localhost:8080/"
        },
        "id": "DMdoC8aaeX4z",
        "outputId": "5835d2d1-5eba-4aec-ffd9-12ff103d3880"
      },
      "outputs": [
        {
          "name": "stdout",
          "output_type": "stream",
          "text": [
            "Ingrese hasta que número de términos finalizara la secuencia: 67\n"
          ]
        },
        {
          "output_type": "execute_result",
          "data": {
            "text/plain": [
              "[0, 1, 1, 2, 3, 5, 8, 13, 21, 34, 55]"
            ]
          },
          "metadata": {},
          "execution_count": 15
        }
      ],
      "source": [
        "def secuencia_Fibonacci():\n",
        "\n",
        "  lim = int(input(\"Ingrese hasta que número de términos finalizara la secuencia: \"))\n",
        "  a = 0\n",
        "  b = 1\n",
        "  secuencia = []\n",
        "\n",
        "#Utilicé un while para que la secuencia se detenga al llegar al limite establecido por el usuario\n",
        "  while a <= lim:\n",
        "    secuencia.append(a)\n",
        "    a , b = b , a + b\n",
        "  return secuencia\n",
        "\n",
        "  print(\"La secuencia es: \",secuencia)\n",
        "\n",
        "secuencia_Fibonacci()\n"
      ]
    }
  ]
}