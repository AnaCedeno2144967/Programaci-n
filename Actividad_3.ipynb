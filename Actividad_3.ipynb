{
  "nbformat": 4,
  "nbformat_minor": 0,
  "metadata": {
    "colab": {
      "provenance": [],
      "authorship_tag": "ABX9TyMtpFAo24ZU57rTIETtz7o1",
      "include_colab_link": true
    },
    "kernelspec": {
      "name": "python3",
      "display_name": "Python 3"
    },
    "language_info": {
      "name": "python"
    }
  },
  "cells": [
    {
      "cell_type": "markdown",
      "metadata": {
        "id": "view-in-github",
        "colab_type": "text"
      },
      "source": [
        "<a href=\"https://colab.research.google.com/github/AnaCedeno2144967/Programaci-n/blob/main/Actividad_3.ipynb\" target=\"_parent\"><img src=\"https://colab.research.google.com/assets/colab-badge.svg\" alt=\"Open In Colab\"/></a>"
      ]
    },
    {
      "cell_type": "code",
      "execution_count": 7,
      "metadata": {
        "id": "MuKBTB6jZWG0",
        "colab": {
          "base_uri": "https://localhost:8080/",
          "height": 158
        },
        "outputId": "eae0933c-6c89-47aa-ef1c-bee2159cb4f5"
      },
      "outputs": [
        {
          "output_type": "error",
          "ename": "SyntaxError",
          "evalue": "invalid character '¿' (U+00BF) (<ipython-input-7-1d9f5a04031b>, line 46)",
          "traceback": [
            "\u001b[0;36m  File \u001b[0;32m\"<ipython-input-7-1d9f5a04031b>\"\u001b[0;36m, line \u001b[0;32m46\u001b[0m\n\u001b[0;31m    Pregunta 9: ¿Cómo puedes corregir un \"Error de sintaxis\"?\u001b[0m\n\u001b[0m                ^\u001b[0m\n\u001b[0;31mSyntaxError\u001b[0m\u001b[0;31m:\u001b[0m invalid character '¿' (U+00BF)\n"
          ]
        }
      ],
      "source": [
        "#Actividad 3\n",
        "\n",
        "Nombre: Ana Valeria Cedeño Araujo.  Matrícula: 2144967\n",
        "\n",
        "Pregunta 1:¿Cuál es la función de la memoria secundaria en una computadora?\n",
        "Respuesta: Almacenar información durante mucho tiempo, incluso después de ciclos de apagado\n",
        "y encendido.\n",
        "\n",
        "Pregunta 2: ¿Qué es un programa?\n",
        "Respuesta: Una se secuencia de declaraciones o sentencias que han sido diseñadas para hacer algo.\n",
        "\n",
        "Pregunta 3: ¿Cuál es la diferencia entre un compilador y un intérprete?\n",
        "Respuesta: Un intérprete lee el código fuente de los programas tal y como ha sido escrito por el programador, lo analiza, e interpreta sus instrucciones sobre la marcha, mientras que el compilador necesita que le entreguen el programa completo en un fichero, luego ejecutan un proceso para traducir el código fuente de alto nivel a código máquina, para después coloca este código máquina resultante dentro del otro fichero para su ejecución posterior.\n",
        "\n",
        "Pregunta 4: ¿Cuál de los siguientes contiene código maquina?\n",
        "Respuesta: El intérprete de Python.\n",
        "\n",
        "Pregunta 5: ¿Qué está mal en el siguiente código?\n",
        "\n",
        ">>>primt '¡Hola, mundo!'\n",
        "File \"<stdin>\", line 1\n",
        "primt '¡Hola, mundo!'\n",
        "\n",
        "SyntaxError: invalid syntax\n",
        ">>>\n",
        "Respuesta: La palabra print está mal escrita y lo que se mostrará en pantalla no está entre paréntesis.\n",
        "\n",
        "Pregunta 6: ¿En qué lugar del computador queda almacenada una variable, cómo en este caso \"x\", después de ejecutar la siguiente línea de Phython?\n",
        "x = 123\n",
        "Respuesta: Memoria principal.\n",
        "\n",
        "Pregunta 7: ¿Qué mostrará en pantalla el siguiente programa?\n",
        "x = 43\n",
        "x = x + 1\n",
        "print(x)\n",
        "Respuesta: 44\n",
        "\n",
        "Pregunta 8: Explica cada uno de los siguientes conceptos usando un ejemplo de una capacidad humana:\n",
        "Respuesta:\n",
        "- Unidad central de procesamiento: Es como el cerebro, ya que se encarga de procesar todas las funciones.\n",
        "- Memoria principal: Se parece a la capacidad de memoria a corto plazo, al igual que ella la información almacenada aquí desaparece.\n",
        "- Memoria secundaria: Tiene cosas en común con la capacidad de memoria a largo plazo ya que puede almacenar la información y no desaparece.\n",
        "- Dispositivos de entrada: Se asemeja a la capacidad de hablar, ya que gracias a ella nos comunicamos, en este caso con la computadora.\n",
        "- Dispositivos de salida: Es como la capacidad de explicar o informar, ya que estos dispositivos permiten mostrar la información de la computadora.\n",
        "\n",
        "Pregunta 9: ¿Cómo puedes corregir un \"Error de sintaxis\"?\n",
        "Respuesta: Revisando que el programa este gramaticalmente bien escrito."
      ]
    }
  ]
}