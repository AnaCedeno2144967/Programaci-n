{
  "nbformat": 4,
  "nbformat_minor": 0,
  "metadata": {
    "colab": {
      "provenance": [],
      "authorship_tag": "ABX9TyN5liGc8Id8uMWTSz8EMRnm",
      "include_colab_link": true
    },
    "kernelspec": {
      "name": "python3",
      "display_name": "Python 3"
    },
    "language_info": {
      "name": "python"
    }
  },
  "cells": [
    {
      "cell_type": "markdown",
      "metadata": {
        "id": "view-in-github",
        "colab_type": "text"
      },
      "source": [
        "<a href=\"https://colab.research.google.com/github/AnaCedeno2144967/Programaci-n/blob/main/Laboratorio-Semana-10/Ordenamiento_y_b%C3%BAsqueda.ipynb\" target=\"_parent\"><img src=\"https://colab.research.google.com/assets/colab-badge.svg\" alt=\"Open In Colab\"/></a>"
      ]
    },
    {
      "cell_type": "code",
      "execution_count": null,
      "metadata": {
        "colab": {
          "base_uri": "https://localhost:8080/"
        },
        "id": "dp5zYBy9UBZc",
        "outputId": "50863e55-8829-46d1-cf29-6ab2c1e04298"
      },
      "outputs": [
        {
          "output_type": "stream",
          "name": "stdout",
          "text": [
            "Introduce el tamaño de la lista: 7\n",
            "\n",
            "Lista original:\n",
            "[76, 98, 89, 88, 98, 60, 31]\n",
            "\n",
            "Lista ordenada:\n",
            "[31, 60, 76, 88, 89, 98, 98]\n",
            "\n",
            "Introduce un número para buscar en la lista: 88\n",
            "El número  88 está en la posición:  3\n"
          ]
        }
      ],
      "source": [
        "#Ordenamiento y Búsqueda\n",
        "import random\n",
        "\n",
        "# Función para realizar el ordenamiento con el algoritmo Quicksort\n",
        "def quicksort(arr):\n",
        "    if len(arr) <= 1:\n",
        "        return arr\n",
        "    pivote = arr[len(arr) // 2]\n",
        "    menores = [x for x in arr if x < pivote]  # Elementos menores que el pivote\n",
        "    medio = [x for x in arr if x == pivote]  # Elementos iguales al pivote\n",
        "    mayores = [x for x in arr if x > pivote]  # Elementos mayores que el pivote\n",
        "    return quicksort(menores) + medio + quicksort(mayores)  # Recursividad\n",
        "\n",
        "def busqueda_binaria(arr, objetivo):\n",
        "    bajo = 0\n",
        "    alto = len(arr) - 1\n",
        "    while bajo <= alto:\n",
        "        medio = (bajo + alto) // 2  # Indice medio\n",
        "        if arr[medio] == objetivo:\n",
        "            return medio\n",
        "        elif arr[medio] < objetivo:\n",
        "            bajo = medio + 1  # Buscamos en la mitad superior\n",
        "        else:\n",
        "            alto = medio - 1  # Buscamos en la mitad inferior\n",
        "    return -1\n",
        "\n",
        "n = int(input(\"Introduce el tamaño de la lista: \"))\n",
        "lista = [random.randint(1, 100) for _ in range(n)]\n",
        "print(\"\\nLista original:\")\n",
        "print(lista)\n",
        "lista_ordenada = quicksort(lista)\n",
        "print(\"\\nLista ordenada:\")\n",
        "print(lista_ordenada)\n",
        "\n",
        "objetivo = int(input(\"\\nIntroduce un número para buscar en la lista: \"))\n",
        "\n",
        "indice = busqueda_binaria(lista_ordenada, objetivo)\n",
        "if indice != -1:\n",
        "   print(\"El número \", objetivo, \"está en la posición: \", indice)\n",
        "else:\n",
        "   print(\"El número \", objetivo, \"no está en la lista.\")"
      ]
    }
  ]
}