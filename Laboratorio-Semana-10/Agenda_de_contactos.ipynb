{
  "nbformat": 4,
  "nbformat_minor": 0,
  "metadata": {
    "colab": {
      "provenance": [],
      "authorship_tag": "ABX9TyNHrWw6I2/wZ8AzAYwD6hNT",
      "include_colab_link": true
    },
    "kernelspec": {
      "name": "python3",
      "display_name": "Python 3"
    },
    "language_info": {
      "name": "python"
    }
  },
  "cells": [
    {
      "cell_type": "markdown",
      "metadata": {
        "id": "view-in-github",
        "colab_type": "text"
      },
      "source": [
        "<a href=\"https://colab.research.google.com/github/AnaCedeno2144967/Programaci-n/blob/main/Laboratorio-Semana-10/Agenda_de_contactos.ipynb\" target=\"_parent\"><img src=\"https://colab.research.google.com/assets/colab-badge.svg\" alt=\"Open In Colab\"/></a>"
      ]
    },
    {
      "cell_type": "code",
      "execution_count": null,
      "metadata": {
        "colab": {
          "base_uri": "https://localhost:8080/"
        },
        "id": "-IAUCevFktX5",
        "outputId": "c56ccd6d-f77d-4816-ef40-9ee12935059a"
      },
      "outputs": [
        {
          "output_type": "stream",
          "name": "stdout",
          "text": [
            "\n",
            "Menú de agenda\n",
            "1. Agregar contacto\n",
            "2. Buscar contacto\n",
            "3. Mostrar contactos\n",
            "Seleccione lo que desea hacer: 1\n",
            "\n",
            "Ingrese el nombre del contacto: Ana Cedeño \n",
            "Ingrese el teléfono del contacto: 821828182\n",
            "Ingrese el correo del contacto: anaaa@gmail.com\n",
            "Contacto agregado\n",
            "Seleccione 1 para volver al menú o cualquier número para salir:1\n",
            "\n",
            "Menú de agenda\n",
            "1. Agregar contacto\n",
            "2. Buscar contacto\n",
            "3. Mostrar contactos\n",
            "Seleccione lo que desea hacer: 1\n",
            "\n",
            "Ingrese el nombre del contacto: Paola Cedeño\n",
            "Ingrese el teléfono del contacto: 379494194\n",
            "Ingrese el correo del contacto: poli@gmail.com\n",
            "Contacto agregado\n",
            "Seleccione 1 para volver al menú o cualquier número para salir:1\n",
            "\n",
            "Menú de agenda\n",
            "1. Agregar contacto\n",
            "2. Buscar contacto\n",
            "3. Mostrar contactos\n",
            "Seleccione lo que desea hacer: 2\n",
            "\n",
            "Ingrese el nombre del contacto que desea buscar: paola cedeño\n",
            "Nombre: Paola Cedeño\n",
            "Teléfono: 379494194\n",
            "Correo: poli@gmail.com\n",
            "Seleccione 1 para volver al menú o cualquier número para salir:1\n",
            "\n",
            "Menú de agenda\n",
            "1. Agregar contacto\n",
            "2. Buscar contacto\n",
            "3. Mostrar contactos\n",
            "Seleccione lo que desea hacer: 3\n",
            "[('Ana Cedeño ', 821828182, 'anaaa@gmail.com'), ('Paola Cedeño', 379494194, 'poli@gmail.com')]\n",
            "Seleccione 1 para volver al menú o cualquier número para salir:9\n",
            "Saliendo\n"
          ]
        }
      ],
      "source": [
        "#Gestión de contactos con tuplas y estructuras anidadas\n",
        "\n",
        "#La lista donde se guardarán los contactos\n",
        "agenda_de_contactos = []\n",
        "\n",
        "def agregar_contacto():\n",
        "  nombre = input(\"\\nIngrese el nombre del contacto: \")\n",
        "  número = int(input(\"Ingrese el teléfono del contacto: \"))\n",
        "  correo = input(\"Ingrese el correo del contacto: \")\n",
        "#La tupla donde se almacenará la información de cada contacto\n",
        "  contacto = (nombre, número, correo)\n",
        "  agenda_de_contactos.append(contacto)\n",
        "  print(\"Contacto agregado\")\n",
        "  op = int(input(\"Seleccione 1 para volver al menú o cualquier número para salir:\"))\n",
        "  if op == 1:\n",
        "    menu()\n",
        "  else:\n",
        "     print(\"Saliendo\")\n",
        "\n",
        "def buscar_contacto():\n",
        "  nombre = input(\"\\nIngrese el nombre del contacto que desea buscar: \")\n",
        "  encontrado = False\n",
        "  for contacto in agenda_de_contactos:\n",
        "    if contacto[0].lower() == nombre.lower():\n",
        "# Se usan índices numéricos para acceder a los datos\n",
        "      print(\"Nombre:\", contacto[0])\n",
        "      print(\"Teléfono:\", contacto[1])\n",
        "      print(\"Correo:\", contacto[2])\n",
        "      encontrado = True\n",
        "      break\n",
        "  if not encontrado:\n",
        "    print(\"Contacto no existente\")\n",
        "  op = int(input(\"Seleccione 1 para volver al menú o cualquier número para salir:\"))\n",
        "  if op == 1:\n",
        "    menu()\n",
        "  else:\n",
        "     print(\"Saliendo\")\n",
        "\n",
        "def mostrar_contactos():\n",
        "   if agenda_de_contactos:\n",
        "# Se usa sorted(agenda_de_contactos, key=lambda x: x[0]) para ordenar los contactos en orden alfabético\n",
        "     lista_ordenada = sorted(agenda_de_contactos, key=lambda x: x[0])\n",
        "     print(lista_ordenada)\n",
        "   else:\n",
        "     print(\"No hay contactos en la agenda\")\n",
        "   op = int(input(\"Seleccione 1 para volver al menú o cualquier número para salir:\"))\n",
        "   if op == 1:\n",
        "     menu()\n",
        "   else:\n",
        "     print(\"Saliendo\")\n",
        "\n",
        "\n",
        "def menu():\n",
        "  print(\"\\nMenú de agenda\")\n",
        "  print(\"1. Agregar contacto\")\n",
        "  print(\"2. Buscar contacto\")\n",
        "  print(\"3. Mostrar contactos\")\n",
        "\n",
        "  opcion = int(input(\"Seleccione lo que desea hacer: \"))\n",
        "\n",
        "  if opcion == 1:\n",
        "    agregar_contacto()\n",
        "  elif opcion == 2:\n",
        "    buscar_contacto()\n",
        "  elif opcion == 3:\n",
        "    mostrar_contactos()\n",
        "\n",
        "menu()\n",
        "\n"
      ]
    }
  ]
}