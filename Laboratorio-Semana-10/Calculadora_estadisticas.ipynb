{
  "nbformat": 4,
  "nbformat_minor": 0,
  "metadata": {
    "colab": {
      "provenance": [],
      "authorship_tag": "ABX9TyNzpsSgxZLQS8e+xuSylq2Y",
      "include_colab_link": true
    },
    "kernelspec": {
      "name": "python3",
      "display_name": "Python 3"
    },
    "language_info": {
      "name": "python"
    }
  },
  "cells": [
    {
      "cell_type": "markdown",
      "metadata": {
        "id": "view-in-github",
        "colab_type": "text"
      },
      "source": [
        "<a href=\"https://colab.research.google.com/github/AnaCedeno2144967/Programaci-n/blob/main/Laboratorio-Semana-10/Calculadora_estadisticas.ipynb\" target=\"_parent\"><img src=\"https://colab.research.google.com/assets/colab-badge.svg\" alt=\"Open In Colab\"/></a>"
      ]
    },
    {
      "cell_type": "code",
      "execution_count": null,
      "metadata": {
        "colab": {
          "base_uri": "https://localhost:8080/"
        },
        "id": "i9yDiEV1FFBi",
        "outputId": "b67b83c4-b274-4037-e148-97850b4db2be"
      },
      "outputs": [
        {
          "output_type": "stream",
          "name": "stdout",
          "text": [
            "Introduce una lista de números separados por espacios: 5 6 4\n",
            "Promedio:  5.0\n",
            "Mediana:  5.0\n",
            "Desviación estándar:  0.0\n"
          ]
        }
      ],
      "source": [
        "def calculadora_estadisticas(*args):\n",
        "\n",
        "    promedio = lambda lista: sum(lista) / len(lista)\n",
        "    prom = promedio(args)\n",
        "# sorted() para ordenar la lista\n",
        "    lista_ordenada = sorted(args)\n",
        "    n = len(lista_ordenada)\n",
        "    if n % 2 == 0:\n",
        "        mediana = (lista_ordenada[n // 2 - 1] + lista_ordenada[n // 2]) / 2\n",
        "    else:\n",
        "        mediana = lista_ordenada[n // 2]\n",
        "\n",
        "    desviacion_estandar = (sum((i - prom) * 2 for i in args) / len(args)) * 0.5\n",
        "\n",
        "    return prom, mediana, desviacion_estandar\n",
        "\n",
        "entrada = input(\"Introduce una lista de números separados por espacios: \")\n",
        "numeros = list(map(float, entrada.split()))\n",
        "\n",
        "promedio, mediana, desviacion_estandar = calculadora_estadisticas(*numeros)\n",
        "\n",
        "print(\"Promedio: \", promedio)\n",
        "print(\"Mediana: \",mediana)\n",
        "print(\"Desviación estándar: \", desviacion_estandar)\n",
        "\n"
      ]
    }
  ]
}