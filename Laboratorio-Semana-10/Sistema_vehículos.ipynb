{
  "nbformat": 4,
  "nbformat_minor": 0,
  "metadata": {
    "colab": {
      "provenance": [],
      "authorship_tag": "ABX9TyMxcbufuoGawoTUJcpnQSnJ",
      "include_colab_link": true
    },
    "kernelspec": {
      "name": "python3",
      "display_name": "Python 3"
    },
    "language_info": {
      "name": "python"
    }
  },
  "cells": [
    {
      "cell_type": "markdown",
      "metadata": {
        "id": "view-in-github",
        "colab_type": "text"
      },
      "source": [
        "<a href=\"https://colab.research.google.com/github/AnaCedeno2144967/Programaci-n/blob/main/Laboratorio-Semana-10/Sistema_veh%C3%ADculos.ipynb\" target=\"_parent\"><img src=\"https://colab.research.google.com/assets/colab-badge.svg\" alt=\"Open In Colab\"/></a>"
      ]
    },
    {
      "cell_type": "code",
      "execution_count": null,
      "metadata": {
        "colab": {
          "base_uri": "https://localhost:8080/"
        },
        "id": "bUyiSm7zNT4W",
        "outputId": "9ff25cc3-c4da-41c8-8ab5-0250878de6e2"
      },
      "outputs": [
        {
          "output_type": "stream",
          "name": "stdout",
          "text": [
            "Información del Automóvil:\n",
            "Marca:  Toyota\n",
            "Modelo:  Hiace\n",
            "Año:  2022\n",
            "Precio:  90000 $\n",
            "Número de puertas:  4\n",
            "\n",
            "Información de la Motocicleta:\n",
            "Marca:  Honda\n",
            "Modelo:  MT-04\n",
            "Año:  2018\n",
            "Precio:  33500 $\n",
            "Cilindrada:  498 cc\n"
          ]
        }
      ],
      "source": [
        "# Sistema de gestión de vehículos\n",
        "\n",
        "class Vehiculo:\n",
        "    def __init__(self, marca, modelo, año, precio):\n",
        "        self.marca = marca\n",
        "        self.modelo = modelo\n",
        "        self.año = año\n",
        "        self.precio = precio\n",
        "\n",
        "    def mostrar_info(self):\n",
        "        print(\"Marca: \", self.marca)\n",
        "        print(\"Modelo: \", self.modelo)\n",
        "        print(\"Año: \", self.año)\n",
        "        print(\"Precio: \", self.precio, \"$\")\n",
        "\n",
        "# Subclase Automóvil\n",
        "class Automovil(Vehiculo):\n",
        "    def __init__(self, marca, modelo, año, precio, num_puertas):\n",
        "        super().__init__(marca, modelo, año, precio)\n",
        "        self.num_puertas = num_puertas\n",
        "\n",
        "    def mostrar_info(self):\n",
        "        super().mostrar_info()\n",
        "        print(\"Número de puertas: \", self.num_puertas)\n",
        "\n",
        "# Subclase Motocicleta\n",
        "class Motocicleta(Vehiculo):\n",
        "    def __init__(self, marca, modelo, año, precio, cilindrada):\n",
        "        super().__init__(marca, modelo, año, precio)\n",
        "        self.cilindrada = cilindrada\n",
        "\n",
        "    def mostrar_info(self):\n",
        "        super().mostrar_info()\n",
        "        print(\"Cilindrada: \", self.cilindrada, \"cc\")\n",
        "\n",
        "#Información a mostrar\n",
        "vehiculo1 = Automovil(\"Toyota\", \"Hiace\", 2022, 90000, 4)\n",
        "vehiculo2 = Motocicleta(\"Honda\", \"MT-04\", 2018, 33500, 498)\n",
        "\n",
        "print(\"Información del Automóvil:\")\n",
        "vehiculo1.mostrar_info()\n",
        "\n",
        "print(\"\\nInformación de la Motocicleta:\")\n",
        "vehiculo2.mostrar_info()"
      ]
    }
  ]
}