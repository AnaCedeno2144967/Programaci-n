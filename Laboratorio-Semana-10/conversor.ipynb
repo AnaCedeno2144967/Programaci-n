{
  "nbformat": 4,
  "nbformat_minor": 0,
  "metadata": {
    "colab": {
      "provenance": [],
      "mount_file_id": "1UIy0c77BqQgWHovCzj1wAzhNk1E6Vkkj",
      "authorship_tag": "ABX9TyONpZkJLbnXKKd8UST8V89Y",
      "include_colab_link": true
    },
    "kernelspec": {
      "name": "python3",
      "display_name": "Python 3"
    },
    "language_info": {
      "name": "python"
    }
  },
  "cells": [
    {
      "cell_type": "markdown",
      "metadata": {
        "id": "view-in-github",
        "colab_type": "text"
      },
      "source": [
        "<a href=\"https://colab.research.google.com/github/AnaCedeno2144967/Programaci-n/blob/main/Laboratorio-Semana-10/conversor.ipynb\" target=\"_parent\"><img src=\"https://colab.research.google.com/assets/colab-badge.svg\" alt=\"Open In Colab\"/></a>"
      ]
    },
    {
      "cell_type": "code",
      "execution_count": null,
      "metadata": {
        "colab": {
          "base_uri": "https://localhost:8080/"
        },
        "id": "hPT7BPf3VUwl",
        "outputId": "89f59ea7-fc7d-48a8-bece-7579730692c7"
      },
      "outputs": [
        {
          "output_type": "stream",
          "name": "stdout",
          "text": [
            "Menú de conversiones\n",
            "1.- Kilometros a millas\n",
            "2.- Celsius a Fahrenheit\n",
            "3.- Litros a galones\n",
            "Elige que deseas convertir: 1\n",
            "Ingrese los kilometros: 100\n",
            "100.0 kilometros equivale a: 62.137100000000004 millas\n"
          ]
        }
      ],
      "source": [
        "#Modulo\n",
        "def km_millas(km):\n",
        "    return km * 0.621371\n",
        "\n",
        "def celsius_fahrenheit(celsius):\n",
        "    return (celsius * 9/5) + 32\n",
        "\n",
        "def litros_galones(litros):\n",
        "    return litros * 0.264172\n",
        "\n",
        "#Función principal\n",
        "def menu():\n",
        "    print(\"Menú de conversiones\")\n",
        "    print(\"1.- Kilometros a millas\")\n",
        "    print(\"2.- Celsius a Fahrenheit\")\n",
        "    print(\"3.- Litros a galones\")\n",
        "\n",
        "    op = float(input(\"Elige que deseas convertir: \"))\n",
        "\n",
        "    if op == 1:\n",
        "        km = float(input(\"Ingrese los kilometros: \"))\n",
        "        print(km,\"kilometros equivale a:\" , km_millas(km), \"millas\")\n",
        "    elif op == 2:\n",
        "        celsius = float(input(\"Ingrese los grados celsius: \"))\n",
        "        print(celsius, \"grados celsius equivalen a: \", celsius_fahrenheit(celsius), \"grados fahrenheit\")\n",
        "    elif op == 3:\n",
        "        litros = float(input(\"Ingrese los litros: \"))\n",
        "        print(litros, \"litros equivalen a: \", litros_galones(litros), \"galones\")\n",
        "    else:\n",
        "        print(\"Opción no válida\")\n",
        "\n",
        "menu()\n"
      ]
    }
  ]
}