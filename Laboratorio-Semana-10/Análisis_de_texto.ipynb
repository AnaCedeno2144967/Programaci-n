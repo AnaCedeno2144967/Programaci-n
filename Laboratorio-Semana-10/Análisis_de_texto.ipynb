{
  "nbformat": 4,
  "nbformat_minor": 0,
  "metadata": {
    "colab": {
      "provenance": [],
      "authorship_tag": "ABX9TyOV9o4tGCmkY6WLRVdEjNX2",
      "include_colab_link": true
    },
    "kernelspec": {
      "name": "python3",
      "display_name": "Python 3"
    },
    "language_info": {
      "name": "python"
    }
  },
  "cells": [
    {
      "cell_type": "markdown",
      "metadata": {
        "id": "view-in-github",
        "colab_type": "text"
      },
      "source": [
        "<a href=\"https://colab.research.google.com/github/AnaCedeno2144967/Programaci-n/blob/main/Laboratorio-Semana-10/An%C3%A1lisis_de_texto.ipynb\" target=\"_parent\"><img src=\"https://colab.research.google.com/assets/colab-badge.svg\" alt=\"Open In Colab\"/></a>"
      ]
    },
    {
      "cell_type": "code",
      "execution_count": null,
      "metadata": {
        "colab": {
          "base_uri": "https://localhost:8080/"
        },
        "id": "gzvfjYWH5_qg",
        "outputId": "7a214d3b-1674-4426-b0f6-625d063ce7e4"
      },
      "outputs": [
        {
          "output_type": "stream",
          "name": "stdout",
          "text": [
            "Ingrese el texto: Hola, este es mi ejercicio uno del laboratorio de programación de la clase de las tres\n",
            "Total de palabras: 16\n",
            "Palabras únicas: 14\n",
            "Palabra más frecuente: de\n",
            "Frecuencia de la palabra más frecuente: 3\n"
          ]
        }
      ],
      "source": [
        "#Análisis de texto con diccionarios y conjuntos\n",
        "\n",
        "def analisis_texto(texto):\n",
        "# Utilicé .lower() para convertir el texto en minusculas y .split() para usar los espacios como separación\n",
        "   palabras = texto.lower().split()\n",
        "\n",
        "#Usé un len para contar cuantas palabras hay en el texto\n",
        "   total_palabras= len(palabras)\n",
        "\n",
        "#Obtuve las palabras únicas de un conjunto de las palabras, ya que el conjunto no permite que se repitan\n",
        "   palabras_unicas = set(palabras)\n",
        "\n",
        "#Utilicé un diccionario para obtener la ferecuencia de cada palabra\n",
        "   frecuencia = {}\n",
        "   for palabra in palabras:\n",
        "       if palabra in frecuencia:\n",
        "           frecuencia[palabra] += 1\n",
        "       else:\n",
        "           frecuencia[palabra] = 1\n",
        "\n",
        "#Usé max(frecuencia, key=frecuencia.get) para hacer lacomparacion entre los demás valores del diccionario y encontrar el mayor\n",
        "   palabra_mas_frecuente = max(frecuencia, key=frecuencia.get)\n",
        "\n",
        "   frecuencia_palabra_mas_frecuente = frecuencia[palabra_mas_frecuente]\n",
        "\n",
        "   print(\"Total de palabras:\", total_palabras)\n",
        "   print(\"Palabras únicas:\", len(palabras_unicas))\n",
        "   print(\"Palabra más frecuente:\", palabra_mas_frecuente)\n",
        "   print(\"Frecuencia de la palabra más frecuente:\", frecuencia_palabra_mas_frecuente)\n",
        "\n",
        "#Le solicité al ususario el texto que analizara\n",
        "texto = input(\"Ingrese el texto: \")\n",
        "analisis_texto(texto)\n"
      ]
    }
  ]
}