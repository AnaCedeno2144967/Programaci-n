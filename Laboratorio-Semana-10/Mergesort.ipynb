{
  "nbformat": 4,
  "nbformat_minor": 0,
  "metadata": {
    "colab": {
      "provenance": [],
      "authorship_tag": "ABX9TyNOgzaGA2zkTmYJroncI2dd",
      "include_colab_link": true
    },
    "kernelspec": {
      "name": "python3",
      "display_name": "Python 3"
    },
    "language_info": {
      "name": "python"
    }
  },
  "cells": [
    {
      "cell_type": "markdown",
      "metadata": {
        "id": "view-in-github",
        "colab_type": "text"
      },
      "source": [
        "<a href=\"https://colab.research.google.com/github/AnaCedeno2144967/Programaci-n/blob/main/Laboratorio-Semana-10/Mergesort.ipynb\" target=\"_parent\"><img src=\"https://colab.research.google.com/assets/colab-badge.svg\" alt=\"Open In Colab\"/></a>"
      ]
    },
    {
      "cell_type": "code",
      "execution_count": 2,
      "metadata": {
        "colab": {
          "base_uri": "https://localhost:8080/"
        },
        "id": "zuRUCWG-hdEX",
        "outputId": "a0db0271-fdce-4741-e24b-d2880592a3cc"
      },
      "outputs": [
        {
          "output_type": "stream",
          "name": "stdout",
          "text": [
            "Ingrese los números separados por espacio: 6 0 2 8\n",
            "Lista antes de ordenar: [6, 0, 2, 8]\n",
            "Lista después de ordenar: [0, 2, 6, 8]\n"
          ]
        }
      ],
      "source": [
        "# Función de Mergesort\n",
        "def mergesort(arr):\n",
        "    if len(arr) <= 1:\n",
        "        return arr\n",
        "\n",
        "    medio = len(arr) // 2\n",
        "# mergesort(arr[:medio]) para los números de la mitad inferior\n",
        "    mitad_inf = mergesort(arr[:medio])\n",
        "# mergesort(arr[medio:]) para los números de la mitad superior\n",
        "    mitad_sup = mergesort(arr[medio:])\n",
        "    return merge(mitad_inf,mitad_sup)\n",
        "\n",
        "# Función para combinar dos listas ordenadas\n",
        "def merge(left, right):\n",
        "    lista_ordenada = []\n",
        "    i = j = 0\n",
        "\n",
        "    while i < len(left) and j < len(right):\n",
        "        if left[i] < right[j]:\n",
        "            lista_ordenada.append(left[i])\n",
        "            i += 1\n",
        "        else:\n",
        "            lista_ordenada.append(right[j])\n",
        "            j += 1\n",
        "\n",
        "# Agregamos los elementos restantes de la lista\n",
        "    lista_ordenada.extend(left[i:])\n",
        "    lista_ordenada.extend(right[j:])\n",
        "\n",
        "    return lista_ordenada\n",
        "\n",
        "arr = list(map(int, input(\"Ingrese los números separados por espacio: \").split()))\n",
        "\n",
        "print(\"Lista antes de ordenar:\", arr)\n",
        "\n",
        "sorted_arr = mergesort(arr)\n",
        "print(\"Lista después de ordenar:\", sorted_arr)"
      ]
    }
  ]
}